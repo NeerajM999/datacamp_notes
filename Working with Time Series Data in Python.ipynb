{
 "cells": [
  {
   "cell_type": "markdown",
   "metadata": {},
   "source": [
    "# Working with Time Series Data in Python\n",
    "\n",
    "In this lesson, we will learn how to read, write and manipulate time series data using python's libraries such as pandas. We will also learn \n",
    "about shifting time series data in past and future as well as plotting them using matplotlib. So lets get started."
   ]
  },
  {
   "cell_type": "markdown",
   "metadata": {},
   "source": [
    "## What is Time Series Data?\n",
    "Time Series is a sequence of data taken at specific (equal) intervals of time. Often such data is indexed on a datatimeindex object and if not, then\n",
    "we need to do it as we will see later in this lesson.\n",
    "\n",
    "### Example of Times Series data\n",
    "Stock prices over a time period such as Apple Stock at below link\n",
    "https://finance.yahoo.com/quote/AAPL?p=AAPL\n"
   ]
  },
  {
   "cell_type": "code",
   "execution_count": 153,
   "metadata": {},
   "outputs": [],
   "source": [
    "from IPython.core.interactiveshell import InteractiveShell\n",
    "InteractiveShell.ast_node_interactivity = \"all\""
   ]
  },
  {
   "cell_type": "markdown",
   "metadata": {},
   "source": [
    "# Exercise - 1\n",
    "### Load test data and examine if it's a time series data or not. If not, convert it into a time series"
   ]
  },
  {
   "cell_type": "code",
   "execution_count": 154,
   "metadata": {},
   "outputs": [
    {
     "name": "stdout",
     "output_type": "stream",
     "text": [
      "<class 'pandas.core.frame.DataFrame'>\n",
      "RangeIndex: 9723 entries, 0 to 9722\n",
      "Data columns (total 2 columns):\n",
      "Date    9723 non-null object\n",
      "AAPL    9722 non-null float64\n",
      "dtypes: float64(1), object(1)\n",
      "memory usage: 152.0+ KB\n"
     ]
    }
   ],
   "source": [
    "import pandas as pd\n",
    "stocks = pd.read_csv('data/apple.csv')\n",
    "stocks.info()"
   ]
  },
  {
   "cell_type": "markdown",
   "metadata": {},
   "source": [
    "### Convert to time series\n",
    "As seen above, stocks data has a column called 'Date' but it's type \n",
    "is set as object (aka string in python). So, as of now this dataset\n",
    "isn't a time series dataset, and we need to convert it."
   ]
  },
  {
   "cell_type": "code",
   "execution_count": 155,
   "metadata": {},
   "outputs": [
    {
     "name": "stdout",
     "output_type": "stream",
     "text": [
      "<class 'pandas.core.frame.DataFrame'>\n",
      "DatetimeIndex: 9723 entries, 1980-12-12 to 2019-07-05\n",
      "Data columns (total 1 columns):\n",
      "AAPL    9722 non-null float64\n",
      "dtypes: float64(1)\n",
      "memory usage: 151.9 KB\n"
     ]
    }
   ],
   "source": [
    "stocks = pd.read_csv('data/apple.csv', \n",
    "                     parse_dates=['Date'],\n",
    "                     index_col='Date')\n",
    "stocks.info()"
   ]
  },
  {
   "cell_type": "markdown",
   "metadata": {},
   "source": [
    "### Print top 5 rows of a time series data\n",
    "As seen above, 'Date' column is turned into a 'DatetimeIndex' object\n",
    "using parse_dates attribute and is also used to index the dataset.\n",
    "This step converts a regular dataset into a time series dataset.\n",
    "Now we have a time series dataset at hand.\n"
   ]
  },
  {
   "cell_type": "code",
   "execution_count": 156,
   "metadata": {},
   "outputs": [
    {
     "data": {
      "text/html": [
       "<div>\n",
       "<style scoped>\n",
       "    .dataframe tbody tr th:only-of-type {\n",
       "        vertical-align: middle;\n",
       "    }\n",
       "\n",
       "    .dataframe tbody tr th {\n",
       "        vertical-align: top;\n",
       "    }\n",
       "\n",
       "    .dataframe thead th {\n",
       "        text-align: right;\n",
       "    }\n",
       "</style>\n",
       "<table border=\"1\" class=\"dataframe\">\n",
       "  <thead>\n",
       "    <tr style=\"text-align: right;\">\n",
       "      <th></th>\n",
       "      <th>AAPL</th>\n",
       "    </tr>\n",
       "    <tr>\n",
       "      <th>Date</th>\n",
       "      <th></th>\n",
       "    </tr>\n",
       "  </thead>\n",
       "  <tbody>\n",
       "    <tr>\n",
       "      <th>1980-12-12</th>\n",
       "      <td>0.513393</td>\n",
       "    </tr>\n",
       "    <tr>\n",
       "      <th>1980-12-15</th>\n",
       "      <td>0.486607</td>\n",
       "    </tr>\n",
       "    <tr>\n",
       "      <th>1980-12-16</th>\n",
       "      <td>0.450893</td>\n",
       "    </tr>\n",
       "    <tr>\n",
       "      <th>1980-12-17</th>\n",
       "      <td>0.462054</td>\n",
       "    </tr>\n",
       "    <tr>\n",
       "      <th>1980-12-18</th>\n",
       "      <td>0.475446</td>\n",
       "    </tr>\n",
       "  </tbody>\n",
       "</table>\n",
       "</div>"
      ],
      "text/plain": [
       "                AAPL\n",
       "Date                \n",
       "1980-12-12  0.513393\n",
       "1980-12-15  0.486607\n",
       "1980-12-16  0.450893\n",
       "1980-12-17  0.462054\n",
       "1980-12-18  0.475446"
      ]
     },
     "execution_count": 156,
     "metadata": {},
     "output_type": "execute_result"
    }
   ],
   "source": [
    "stocks.head(5)"
   ]
  },
  {
   "cell_type": "markdown",
   "metadata": {},
   "source": [
    "### Another approach to convert to time series\n",
    "There's another way to convert data into a time series without reloading it."
   ]
  },
  {
   "cell_type": "code",
   "execution_count": 157,
   "metadata": {},
   "outputs": [
    {
     "name": "stdout",
     "output_type": "stream",
     "text": [
      "<class 'pandas.core.frame.DataFrame'>\n",
      "RangeIndex: 9723 entries, 0 to 9722\n",
      "Data columns (total 2 columns):\n",
      "Date    9723 non-null datetime64[ns]\n",
      "AAPL    9722 non-null float64\n",
      "dtypes: datetime64[ns](1), float64(1)\n",
      "memory usage: 152.0 KB\n"
     ]
    }
   ],
   "source": [
    "stocks = pd.read_csv('data/apple.csv')\n",
    "stocks.Date = pd.to_datetime(stocks.Date)\n",
    "stocks.info()"
   ]
  },
  {
   "cell_type": "markdown",
   "metadata": {},
   "source": [
    "Now we can use 'Date' column as index"
   ]
  },
  {
   "cell_type": "code",
   "execution_count": 158,
   "metadata": {},
   "outputs": [
    {
     "name": "stdout",
     "output_type": "stream",
     "text": [
      "<class 'pandas.core.frame.DataFrame'>\n",
      "DatetimeIndex: 9723 entries, 1980-12-12 to 2019-07-05\n",
      "Data columns (total 1 columns):\n",
      "AAPL    9722 non-null float64\n",
      "dtypes: float64(1)\n",
      "memory usage: 151.9 KB\n"
     ]
    }
   ],
   "source": [
    "stocks.set_index('Date', inplace=True)\n",
    "stocks.info()"
   ]
  },
  {
   "cell_type": "markdown",
   "metadata": {},
   "source": [
    "# Exercise - 2\n",
    "### Plot time series data"
   ]
  },
  {
   "cell_type": "code",
   "execution_count": 159,
   "metadata": {},
   "outputs": [],
   "source": [
    "# Import requisite plotting modules\n",
    "import matplotlib.pyplot as plt\n",
    "\n",
    "# Display plots within jupyter notebook\n",
    "%matplotlib inline"
   ]
  },
  {
   "cell_type": "code",
   "execution_count": 160,
   "metadata": {},
   "outputs": [
    {
     "data": {
      "text/plain": [
       "<matplotlib.axes._subplots.AxesSubplot at 0x7f86e7cb9ef0>"
      ]
     },
     "execution_count": 160,
     "metadata": {},
     "output_type": "execute_result"
    },
    {
     "data": {
      "text/plain": [
       "Text(0, 0.5, 'Price ($)')"
      ]
     },
     "execution_count": 160,
     "metadata": {},
     "output_type": "execute_result"
    },
    {
     "data": {
      "text/plain": [
       "Text(0.5, 0, 'Date')"
      ]
     },
     "execution_count": 160,
     "metadata": {},
     "output_type": "execute_result"
    },
    {
     "data": {
      "image/png": "[encoded data removed]",
      "text/plain": [
       "<Figure size 1080x504 with 1 Axes>"
      ]
     },
     "metadata": {
      "needs_background": "light"
     },
     "output_type": "display_data"
    }
   ],
   "source": [
    "# set the title of the chart using 'title' attribute and figsize sets chart size in tuple of form (w,h) in inches\n",
    "stocks.plot(title='Apple Stock Performance', figsize=(15,7)) \n",
    "plt.ylabel('Price ($)') # sets y label on chart\n",
    "plt.xlabel('Date') # sets x label on chart\n",
    "plt.show() # renders the chart on screen"
   ]
  },
  {
   "cell_type": "markdown",
   "metadata": {},
   "source": [
    "# Exercise - 3\n",
    "### Crafting your own time series data.\n",
    "\n",
    "### Often you will face situation where time information is missing from data. In that case, you can add custom date column to the dataset and convert it into a time series."
   ]
  },
  {
   "cell_type": "code",
   "execution_count": 161,
   "metadata": {
    "scrolled": true
   },
   "outputs": [
    {
     "data": {
      "text/plain": [
       "array([[0.60948493, 0.71544903],\n",
       "       [0.80437084, 0.52426973],\n",
       "       [0.35451459, 0.51651705],\n",
       "       [0.24961752, 0.91388799],\n",
       "       [0.12268264, 0.21998835],\n",
       "       [0.49479338, 0.3415562 ],\n",
       "       [0.56217315, 0.83527308],\n",
       "       [0.62663525, 0.7291932 ],\n",
       "       [0.22410315, 0.17648612],\n",
       "       [0.82902335, 0.62928623],\n",
       "       [0.38949568, 0.28154476],\n",
       "       [0.48582602, 0.9269382 ],\n",
       "       [0.85723724, 0.15273553],\n",
       "       [0.09848531, 0.99587482],\n",
       "       [0.73954003, 0.23380976],\n",
       "       [0.82212696, 0.60559132],\n",
       "       [0.99380553, 0.24441383],\n",
       "       [0.82398491, 0.31584143],\n",
       "       [0.0324662 , 0.7282953 ],\n",
       "       [0.73842816, 0.30886593],\n",
       "       [0.51366407, 0.02299394],\n",
       "       [0.66318007, 0.43590692],\n",
       "       [0.25983099, 0.54559838],\n",
       "       [0.72223744, 0.82482316],\n",
       "       [0.11235463, 0.16097213],\n",
       "       [0.01895775, 0.37003826],\n",
       "       [0.77018127, 0.36311655],\n",
       "       [0.71770845, 0.1614938 ],\n",
       "       [0.05832568, 0.57741134],\n",
       "       [0.97393394, 0.61026689],\n",
       "       [0.4884554 , 0.91176978],\n",
       "       [0.42229118, 0.16201988],\n",
       "       [0.8875448 , 0.74205464],\n",
       "       [0.79863125, 0.63818267],\n",
       "       [0.64539194, 0.81261148],\n",
       "       [0.23976997, 0.74393468],\n",
       "       [0.79688216, 0.30478454],\n",
       "       [0.86452451, 0.97551802],\n",
       "       [0.44930677, 0.89702482],\n",
       "       [0.06329747, 0.33640258],\n",
       "       [0.07630121, 0.02123375],\n",
       "       [0.73078395, 0.13327059],\n",
       "       [0.57385743, 0.69957387],\n",
       "       [0.49405843, 0.31674314],\n",
       "       [0.06643932, 0.4350747 ],\n",
       "       [0.07582787, 0.38077989],\n",
       "       [0.60360735, 0.6701872 ],\n",
       "       [0.37862737, 0.95351516],\n",
       "       [0.63802026, 0.88343716],\n",
       "       [0.85212488, 0.3313511 ]])"
      ]
     },
     "execution_count": 161,
     "metadata": {},
     "output_type": "execute_result"
    }
   ],
   "source": [
    "import numpy as np # we need it for random function\n",
    "\n",
    "# randomly generate a data array with 50 rows and 2 columns\n",
    "data = np.random.random((50,2))\n",
    "\n",
    "data"
   ]
  },
  {
   "cell_type": "code",
   "execution_count": 162,
   "metadata": {},
   "outputs": [
    {
     "data": {
      "text/plain": [
       "DatetimeIndex(['2019-01-01', '2019-01-02', '2019-01-03', '2019-01-04',\n",
       "               '2019-01-07', '2019-01-08', '2019-01-09', '2019-01-10',\n",
       "               '2019-01-11', '2019-01-14', '2019-01-15', '2019-01-16',\n",
       "               '2019-01-17', '2019-01-18', '2019-01-21', '2019-01-22',\n",
       "               '2019-01-23', '2019-01-24', '2019-01-25', '2019-01-28',\n",
       "               '2019-01-29', '2019-01-30', '2019-01-31', '2019-02-01',\n",
       "               '2019-02-04', '2019-02-05', '2019-02-06', '2019-02-07',\n",
       "               '2019-02-08', '2019-02-11', '2019-02-12', '2019-02-13',\n",
       "               '2019-02-14', '2019-02-15', '2019-02-18', '2019-02-19',\n",
       "               '2019-02-20', '2019-02-21', '2019-02-22', '2019-02-25',\n",
       "               '2019-02-26', '2019-02-27', '2019-02-28', '2019-03-01',\n",
       "               '2019-03-04', '2019-03-05', '2019-03-06', '2019-03-07',\n",
       "               '2019-03-08', '2019-03-11'],\n",
       "              dtype='datetime64[ns]', freq='B')"
      ]
     },
     "execution_count": 162,
     "metadata": {},
     "output_type": "execute_result"
    }
   ],
   "source": [
    "# create an index column with DatetimeIndex object as follows:\n",
    "# note period is set to 50 as we have 50 rows in our data array.\n",
    "# freq = 'B' indicates we only need business days in date series.\n",
    "\n",
    "dt = pd.date_range(start='2019-01-01', periods=50, freq='B')\n",
    "dt"
   ]
  },
  {
   "cell_type": "code",
   "execution_count": 163,
   "metadata": {},
   "outputs": [
    {
     "name": "stdout",
     "output_type": "stream",
     "text": [
      "<class 'pandas.core.frame.DataFrame'>\n",
      "DatetimeIndex: 50 entries, 2019-01-01 to 2019-03-11\n",
      "Freq: B\n",
      "Data columns (total 2 columns):\n",
      "0    50 non-null float64\n",
      "1    50 non-null float64\n",
      "dtypes: float64(2)\n",
      "memory usage: 1.2 KB\n"
     ]
    }
   ],
   "source": [
    "# Now we have data + index both, we can combine them together to form a pandas dataframe\n",
    "\n",
    "df = pd.DataFrame(data=data, index=dt)\n",
    "df.info()"
   ]
  },
  {
   "cell_type": "code",
   "execution_count": 164,
   "metadata": {},
   "outputs": [
    {
     "data": {
      "text/html": [
       "<div>\n",
       "<style scoped>\n",
       "    .dataframe tbody tr th:only-of-type {\n",
       "        vertical-align: middle;\n",
       "    }\n",
       "\n",
       "    .dataframe tbody tr th {\n",
       "        vertical-align: top;\n",
       "    }\n",
       "\n",
       "    .dataframe thead th {\n",
       "        text-align: right;\n",
       "    }\n",
       "</style>\n",
       "<table border=\"1\" class=\"dataframe\">\n",
       "  <thead>\n",
       "    <tr style=\"text-align: right;\">\n",
       "      <th></th>\n",
       "      <th>0</th>\n",
       "      <th>1</th>\n",
       "    </tr>\n",
       "  </thead>\n",
       "  <tbody>\n",
       "    <tr>\n",
       "      <th>2019-01-01</th>\n",
       "      <td>0.609485</td>\n",
       "      <td>0.715449</td>\n",
       "    </tr>\n",
       "    <tr>\n",
       "      <th>2019-01-02</th>\n",
       "      <td>0.804371</td>\n",
       "      <td>0.524270</td>\n",
       "    </tr>\n",
       "    <tr>\n",
       "      <th>2019-01-03</th>\n",
       "      <td>0.354515</td>\n",
       "      <td>0.516517</td>\n",
       "    </tr>\n",
       "    <tr>\n",
       "      <th>2019-01-04</th>\n",
       "      <td>0.249618</td>\n",
       "      <td>0.913888</td>\n",
       "    </tr>\n",
       "    <tr>\n",
       "      <th>2019-01-07</th>\n",
       "      <td>0.122683</td>\n",
       "      <td>0.219988</td>\n",
       "    </tr>\n",
       "  </tbody>\n",
       "</table>\n",
       "</div>"
      ],
      "text/plain": [
       "                   0         1\n",
       "2019-01-01  0.609485  0.715449\n",
       "2019-01-02  0.804371  0.524270\n",
       "2019-01-03  0.354515  0.516517\n",
       "2019-01-04  0.249618  0.913888\n",
       "2019-01-07  0.122683  0.219988"
      ]
     },
     "execution_count": 164,
     "metadata": {},
     "output_type": "execute_result"
    }
   ],
   "source": [
    "df.head()"
   ]
  },
  {
   "cell_type": "markdown",
   "metadata": {},
   "source": [
    "# Exercise - 4\n",
    "### Accessing components of a DatetimeIndex object\n",
    "\n",
    "### After setting a DatetimeIndex to a dataframe, it becomes relatively very easy to filter dataframe on components of time such as year, month, etc\n",
    "\n"
   ]
  },
  {
   "cell_type": "code",
   "execution_count": 165,
   "metadata": {},
   "outputs": [
    {
     "data": {
      "text/plain": [
       "40"
      ]
     },
     "execution_count": 165,
     "metadata": {},
     "output_type": "execute_result"
    }
   ],
   "source": [
    "# Problem 1. Count number of years for which we have stocks data\n",
    "len((stocks.index.year).unique()) # as seen we can directly query a datetimeindex object on it's year."
   ]
  },
  {
   "cell_type": "code",
   "execution_count": 166,
   "metadata": {},
   "outputs": [
    {
     "data": {
      "text/plain": [
       "Index(['Friday', 'Monday', 'Tuesday', 'Wednesday', 'Thursday'], dtype='object', name='Date')"
      ]
     },
     "execution_count": 166,
     "metadata": {},
     "output_type": "execute_result"
    }
   ],
   "source": [
    "# Problem 2. Get distinct days of weeks when data was captured\n",
    "stocks.index.day_name().unique()"
   ]
  },
  {
   "cell_type": "code",
   "execution_count": 167,
   "metadata": {},
   "outputs": [
    {
     "data": {
      "text/html": [
       "<div>\n",
       "<style scoped>\n",
       "    .dataframe tbody tr th:only-of-type {\n",
       "        vertical-align: middle;\n",
       "    }\n",
       "\n",
       "    .dataframe tbody tr th {\n",
       "        vertical-align: top;\n",
       "    }\n",
       "\n",
       "    .dataframe thead th {\n",
       "        text-align: right;\n",
       "    }\n",
       "</style>\n",
       "<table border=\"1\" class=\"dataframe\">\n",
       "  <thead>\n",
       "    <tr style=\"text-align: right;\">\n",
       "      <th></th>\n",
       "      <th>AAPL</th>\n",
       "    </tr>\n",
       "    <tr>\n",
       "      <th>Date</th>\n",
       "      <th></th>\n",
       "    </tr>\n",
       "  </thead>\n",
       "  <tbody>\n",
       "    <tr>\n",
       "      <th>2017-01-30</th>\n",
       "      <td>121.629997</td>\n",
       "    </tr>\n",
       "    <tr>\n",
       "      <th>2017-01-31</th>\n",
       "      <td>121.349998</td>\n",
       "    </tr>\n",
       "    <tr>\n",
       "      <th>2017-02-01</th>\n",
       "      <td>128.750000</td>\n",
       "    </tr>\n",
       "    <tr>\n",
       "      <th>2017-02-02</th>\n",
       "      <td>128.529999</td>\n",
       "    </tr>\n",
       "    <tr>\n",
       "      <th>2017-02-03</th>\n",
       "      <td>129.080002</td>\n",
       "    </tr>\n",
       "  </tbody>\n",
       "</table>\n",
       "</div>"
      ],
      "text/plain": [
       "                  AAPL\n",
       "Date                  \n",
       "2017-01-30  121.629997\n",
       "2017-01-31  121.349998\n",
       "2017-02-01  128.750000\n",
       "2017-02-02  128.529999\n",
       "2017-02-03  129.080002"
      ]
     },
     "execution_count": 167,
     "metadata": {},
     "output_type": "execute_result"
    }
   ],
   "source": [
    "# Problem 3. Get all records for 5th week in year 2017\n",
    "week_5 = stocks['2017'].index.weekofyear == 5\n",
    "stocks['2017'][week_5]"
   ]
  },
  {
   "cell_type": "code",
   "execution_count": 168,
   "metadata": {
    "scrolled": true
   },
   "outputs": [
    {
     "data": {
      "text/html": [
       "<div>\n",
       "<style scoped>\n",
       "    .dataframe tbody tr th:only-of-type {\n",
       "        vertical-align: middle;\n",
       "    }\n",
       "\n",
       "    .dataframe tbody tr th {\n",
       "        vertical-align: top;\n",
       "    }\n",
       "\n",
       "    .dataframe thead th {\n",
       "        text-align: right;\n",
       "    }\n",
       "</style>\n",
       "<table border=\"1\" class=\"dataframe\">\n",
       "  <thead>\n",
       "    <tr style=\"text-align: right;\">\n",
       "      <th></th>\n",
       "      <th>AAPL</th>\n",
       "    </tr>\n",
       "    <tr>\n",
       "      <th>Date</th>\n",
       "      <th></th>\n",
       "    </tr>\n",
       "  </thead>\n",
       "  <tbody>\n",
       "    <tr>\n",
       "      <th>2017-03-01</th>\n",
       "      <td>139.789993</td>\n",
       "    </tr>\n",
       "    <tr>\n",
       "      <th>2017-03-02</th>\n",
       "      <td>138.960007</td>\n",
       "    </tr>\n",
       "    <tr>\n",
       "      <th>2017-03-03</th>\n",
       "      <td>139.779999</td>\n",
       "    </tr>\n",
       "    <tr>\n",
       "      <th>2017-03-06</th>\n",
       "      <td>139.339996</td>\n",
       "    </tr>\n",
       "    <tr>\n",
       "      <th>2017-03-07</th>\n",
       "      <td>139.520004</td>\n",
       "    </tr>\n",
       "    <tr>\n",
       "      <th>2017-03-08</th>\n",
       "      <td>139.000000</td>\n",
       "    </tr>\n",
       "    <tr>\n",
       "      <th>2017-03-09</th>\n",
       "      <td>138.679993</td>\n",
       "    </tr>\n",
       "    <tr>\n",
       "      <th>2017-03-10</th>\n",
       "      <td>139.139999</td>\n",
       "    </tr>\n",
       "    <tr>\n",
       "      <th>2017-03-13</th>\n",
       "      <td>139.199997</td>\n",
       "    </tr>\n",
       "    <tr>\n",
       "      <th>2017-03-14</th>\n",
       "      <td>138.990005</td>\n",
       "    </tr>\n",
       "    <tr>\n",
       "      <th>2017-03-15</th>\n",
       "      <td>140.460007</td>\n",
       "    </tr>\n",
       "    <tr>\n",
       "      <th>2017-03-16</th>\n",
       "      <td>140.690002</td>\n",
       "    </tr>\n",
       "    <tr>\n",
       "      <th>2017-03-17</th>\n",
       "      <td>139.990005</td>\n",
       "    </tr>\n",
       "    <tr>\n",
       "      <th>2017-03-20</th>\n",
       "      <td>141.460007</td>\n",
       "    </tr>\n",
       "    <tr>\n",
       "      <th>2017-03-21</th>\n",
       "      <td>139.839996</td>\n",
       "    </tr>\n",
       "    <tr>\n",
       "      <th>2017-03-22</th>\n",
       "      <td>141.419998</td>\n",
       "    </tr>\n",
       "    <tr>\n",
       "      <th>2017-03-23</th>\n",
       "      <td>140.919998</td>\n",
       "    </tr>\n",
       "    <tr>\n",
       "      <th>2017-03-24</th>\n",
       "      <td>140.639999</td>\n",
       "    </tr>\n",
       "    <tr>\n",
       "      <th>2017-03-27</th>\n",
       "      <td>140.880005</td>\n",
       "    </tr>\n",
       "    <tr>\n",
       "      <th>2017-03-28</th>\n",
       "      <td>143.800003</td>\n",
       "    </tr>\n",
       "    <tr>\n",
       "      <th>2017-03-29</th>\n",
       "      <td>144.119995</td>\n",
       "    </tr>\n",
       "    <tr>\n",
       "      <th>2017-03-30</th>\n",
       "      <td>143.929993</td>\n",
       "    </tr>\n",
       "    <tr>\n",
       "      <th>2017-03-31</th>\n",
       "      <td>143.660004</td>\n",
       "    </tr>\n",
       "    <tr>\n",
       "      <th>2017-04-03</th>\n",
       "      <td>143.699997</td>\n",
       "    </tr>\n",
       "    <tr>\n",
       "      <th>2017-04-04</th>\n",
       "      <td>144.770004</td>\n",
       "    </tr>\n",
       "    <tr>\n",
       "      <th>2017-04-05</th>\n",
       "      <td>144.020004</td>\n",
       "    </tr>\n",
       "    <tr>\n",
       "      <th>2017-04-06</th>\n",
       "      <td>143.660004</td>\n",
       "    </tr>\n",
       "    <tr>\n",
       "      <th>2017-04-07</th>\n",
       "      <td>143.339996</td>\n",
       "    </tr>\n",
       "    <tr>\n",
       "      <th>2017-04-10</th>\n",
       "      <td>143.169998</td>\n",
       "    </tr>\n",
       "    <tr>\n",
       "      <th>2017-04-11</th>\n",
       "      <td>141.630005</td>\n",
       "    </tr>\n",
       "    <tr>\n",
       "      <th>...</th>\n",
       "      <td>...</td>\n",
       "    </tr>\n",
       "    <tr>\n",
       "      <th>2017-04-19</th>\n",
       "      <td>140.679993</td>\n",
       "    </tr>\n",
       "    <tr>\n",
       "      <th>2017-04-20</th>\n",
       "      <td>142.440002</td>\n",
       "    </tr>\n",
       "    <tr>\n",
       "      <th>2017-04-21</th>\n",
       "      <td>142.270004</td>\n",
       "    </tr>\n",
       "    <tr>\n",
       "      <th>2017-04-24</th>\n",
       "      <td>143.639999</td>\n",
       "    </tr>\n",
       "    <tr>\n",
       "      <th>2017-04-25</th>\n",
       "      <td>144.529999</td>\n",
       "    </tr>\n",
       "    <tr>\n",
       "      <th>2017-04-26</th>\n",
       "      <td>143.679993</td>\n",
       "    </tr>\n",
       "    <tr>\n",
       "      <th>2017-04-27</th>\n",
       "      <td>143.789993</td>\n",
       "    </tr>\n",
       "    <tr>\n",
       "      <th>2017-04-28</th>\n",
       "      <td>143.649994</td>\n",
       "    </tr>\n",
       "    <tr>\n",
       "      <th>2017-05-01</th>\n",
       "      <td>146.580002</td>\n",
       "    </tr>\n",
       "    <tr>\n",
       "      <th>2017-05-02</th>\n",
       "      <td>147.509995</td>\n",
       "    </tr>\n",
       "    <tr>\n",
       "      <th>2017-05-03</th>\n",
       "      <td>147.059998</td>\n",
       "    </tr>\n",
       "    <tr>\n",
       "      <th>2017-05-04</th>\n",
       "      <td>146.529999</td>\n",
       "    </tr>\n",
       "    <tr>\n",
       "      <th>2017-05-05</th>\n",
       "      <td>148.960007</td>\n",
       "    </tr>\n",
       "    <tr>\n",
       "      <th>2017-05-08</th>\n",
       "      <td>153.009995</td>\n",
       "    </tr>\n",
       "    <tr>\n",
       "      <th>2017-05-09</th>\n",
       "      <td>153.990005</td>\n",
       "    </tr>\n",
       "    <tr>\n",
       "      <th>2017-05-10</th>\n",
       "      <td>153.259995</td>\n",
       "    </tr>\n",
       "    <tr>\n",
       "      <th>2017-05-11</th>\n",
       "      <td>153.949997</td>\n",
       "    </tr>\n",
       "    <tr>\n",
       "      <th>2017-05-12</th>\n",
       "      <td>156.100006</td>\n",
       "    </tr>\n",
       "    <tr>\n",
       "      <th>2017-05-15</th>\n",
       "      <td>155.699997</td>\n",
       "    </tr>\n",
       "    <tr>\n",
       "      <th>2017-05-16</th>\n",
       "      <td>155.470001</td>\n",
       "    </tr>\n",
       "    <tr>\n",
       "      <th>2017-05-17</th>\n",
       "      <td>150.250000</td>\n",
       "    </tr>\n",
       "    <tr>\n",
       "      <th>2017-05-18</th>\n",
       "      <td>152.539993</td>\n",
       "    </tr>\n",
       "    <tr>\n",
       "      <th>2017-05-19</th>\n",
       "      <td>153.059998</td>\n",
       "    </tr>\n",
       "    <tr>\n",
       "      <th>2017-05-22</th>\n",
       "      <td>153.990005</td>\n",
       "    </tr>\n",
       "    <tr>\n",
       "      <th>2017-05-23</th>\n",
       "      <td>153.800003</td>\n",
       "    </tr>\n",
       "    <tr>\n",
       "      <th>2017-05-24</th>\n",
       "      <td>153.339996</td>\n",
       "    </tr>\n",
       "    <tr>\n",
       "      <th>2017-05-25</th>\n",
       "      <td>153.869995</td>\n",
       "    </tr>\n",
       "    <tr>\n",
       "      <th>2017-05-26</th>\n",
       "      <td>153.610001</td>\n",
       "    </tr>\n",
       "    <tr>\n",
       "      <th>2017-05-30</th>\n",
       "      <td>153.669998</td>\n",
       "    </tr>\n",
       "    <tr>\n",
       "      <th>2017-05-31</th>\n",
       "      <td>152.759995</td>\n",
       "    </tr>\n",
       "  </tbody>\n",
       "</table>\n",
       "<p>64 rows × 1 columns</p>\n",
       "</div>"
      ],
      "text/plain": [
       "                  AAPL\n",
       "Date                  \n",
       "2017-03-01  139.789993\n",
       "2017-03-02  138.960007\n",
       "2017-03-03  139.779999\n",
       "2017-03-06  139.339996\n",
       "2017-03-07  139.520004\n",
       "2017-03-08  139.000000\n",
       "2017-03-09  138.679993\n",
       "2017-03-10  139.139999\n",
       "2017-03-13  139.199997\n",
       "2017-03-14  138.990005\n",
       "2017-03-15  140.460007\n",
       "2017-03-16  140.690002\n",
       "2017-03-17  139.990005\n",
       "2017-03-20  141.460007\n",
       "2017-03-21  139.839996\n",
       "2017-03-22  141.419998\n",
       "2017-03-23  140.919998\n",
       "2017-03-24  140.639999\n",
       "2017-03-27  140.880005\n",
       "2017-03-28  143.800003\n",
       "2017-03-29  144.119995\n",
       "2017-03-30  143.929993\n",
       "2017-03-31  143.660004\n",
       "2017-04-03  143.699997\n",
       "2017-04-04  144.770004\n",
       "2017-04-05  144.020004\n",
       "2017-04-06  143.660004\n",
       "2017-04-07  143.339996\n",
       "2017-04-10  143.169998\n",
       "2017-04-11  141.630005\n",
       "...                ...\n",
       "2017-04-19  140.679993\n",
       "2017-04-20  142.440002\n",
       "2017-04-21  142.270004\n",
       "2017-04-24  143.639999\n",
       "2017-04-25  144.529999\n",
       "2017-04-26  143.679993\n",
       "2017-04-27  143.789993\n",
       "2017-04-28  143.649994\n",
       "2017-05-01  146.580002\n",
       "2017-05-02  147.509995\n",
       "2017-05-03  147.059998\n",
       "2017-05-04  146.529999\n",
       "2017-05-05  148.960007\n",
       "2017-05-08  153.009995\n",
       "2017-05-09  153.990005\n",
       "2017-05-10  153.259995\n",
       "2017-05-11  153.949997\n",
       "2017-05-12  156.100006\n",
       "2017-05-15  155.699997\n",
       "2017-05-16  155.470001\n",
       "2017-05-17  150.250000\n",
       "2017-05-18  152.539993\n",
       "2017-05-19  153.059998\n",
       "2017-05-22  153.990005\n",
       "2017-05-23  153.800003\n",
       "2017-05-24  153.339996\n",
       "2017-05-25  153.869995\n",
       "2017-05-26  153.610001\n",
       "2017-05-30  153.669998\n",
       "2017-05-31  152.759995\n",
       "\n",
       "[64 rows x 1 columns]"
      ]
     },
     "execution_count": 168,
     "metadata": {},
     "output_type": "execute_result"
    }
   ],
   "source": [
    "# Problem 4. Pull records within March 2017 and May 2017 (a given range)\n",
    "# Note here we have not provided the day but only the YYYY-MM and pandas is able to filter the records since our index is a DatetimeIndex object.\n",
    "\n",
    "#stocks['2017-3':'2017-5'] # even this works\n",
    "stocks['2017-03':'2017-05']"
   ]
  },
  {
   "cell_type": "code",
   "execution_count": 169,
   "metadata": {},
   "outputs": [
    {
     "data": {
      "text/plain": [
       "'=== Year ==='"
      ]
     },
     "execution_count": 169,
     "metadata": {},
     "output_type": "execute_result"
    },
    {
     "data": {
      "text/plain": [
       "Int64Index([1980, 1980, 1980, 1980, 1980, 1980, 1980, 1980, 1980, 1980,\n",
       "            ...\n",
       "            2019, 2019, 2019, 2019, 2019, 2019, 2019, 2019, 2019, 2019],\n",
       "           dtype='int64', name='Date', length=9723)"
      ]
     },
     "execution_count": 169,
     "metadata": {},
     "output_type": "execute_result"
    },
    {
     "data": {
      "text/plain": [
       "'=== Year + 1 === '"
      ]
     },
     "execution_count": 169,
     "metadata": {},
     "output_type": "execute_result"
    },
    {
     "data": {
      "text/plain": [
       "Int64Index([1981, 1981, 1981, 1981, 1981, 1981, 1981, 1981, 1981, 1981,\n",
       "            ...\n",
       "            2020, 2020, 2020, 2020, 2020, 2020, 2020, 2020, 2020, 2020],\n",
       "           dtype='int64', name='Date', length=9723)"
      ]
     },
     "execution_count": 169,
     "metadata": {},
     "output_type": "execute_result"
    },
    {
     "data": {
      "text/plain": [
       "'=== Month === '"
      ]
     },
     "execution_count": 169,
     "metadata": {},
     "output_type": "execute_result"
    },
    {
     "data": {
      "text/plain": [
       "Int64Index([12, 12, 12, 12, 12, 12, 12, 12, 12, 12,\n",
       "            ...\n",
       "             6,  6,  6,  6,  6,  6,  7,  7,  7,  7],\n",
       "           dtype='int64', name='Date', length=9723)"
      ]
     },
     "execution_count": 169,
     "metadata": {},
     "output_type": "execute_result"
    },
    {
     "data": {
      "text/plain": [
       "'=== Month -1 === '"
      ]
     },
     "execution_count": 169,
     "metadata": {},
     "output_type": "execute_result"
    },
    {
     "data": {
      "text/plain": [
       "Int64Index([11, 11, 11, 11, 11, 11, 11, 11, 11, 11,\n",
       "            ...\n",
       "             5,  5,  5,  5,  5,  5,  6,  6,  6,  6],\n",
       "           dtype='int64', name='Date', length=9723)"
      ]
     },
     "execution_count": 169,
     "metadata": {},
     "output_type": "execute_result"
    }
   ],
   "source": [
    "# Easy to manipulate date components at various levels\n",
    "\"=== Year ===\"\n",
    "stocks.index.year \n",
    "\n",
    "\"=== Year + 1 === \"\n",
    "stocks.index.year + 1\n",
    "\n",
    "\"=== Month === \"\n",
    "stocks.index.month\n",
    "\n",
    "\"=== Month -1 === \"\n",
    "stocks.index.month - 1"
   ]
  },
  {
   "cell_type": "markdown",
   "metadata": {},
   "source": [
    "# Exercise - 5\n",
    "### Manipulating frequency of DatetimeIndex\n",
    "\n",
    "### Support frequencies\n",
    "'A' - Yearly\n",
    "'Q' - Quarterly\n",
    "'M' - Monthly\n",
    "'W' - Weekly\n",
    "'D' - Daily\n",
    "'H' - Hourly\n",
    "'B' - Business Days"
   ]
  },
  {
   "cell_type": "code",
   "execution_count": 170,
   "metadata": {},
   "outputs": [
    {
     "name": "stdout",
     "output_type": "stream",
     "text": [
      "======= Daily Frequency =======\n",
      "<class 'pandas.core.frame.DataFrame'>\n",
      "DatetimeIndex: 14085 entries, 1980-12-12 to 2019-07-05\n",
      "Freq: D\n",
      "Data columns (total 1 columns):\n",
      "AAPL    9722 non-null float64\n",
      "dtypes: float64(1)\n",
      "memory usage: 220.1 KB\n",
      "None\n",
      "======= Monthly Frequency =======\n",
      "<class 'pandas.core.frame.DataFrame'>\n",
      "DatetimeIndex: 463 entries, 1980-12-31 to 2019-06-30\n",
      "Freq: M\n",
      "Data columns (total 1 columns):\n",
      "AAPL    325 non-null float64\n",
      "dtypes: float64(1)\n",
      "memory usage: 7.2 KB\n",
      "None\n"
     ]
    }
   ],
   "source": [
    "# Problem 1 - Convert daily frequency of stock data to Monthly frequency\n",
    "print(\"======= Daily Frequency =======\")\n",
    "print(stocks.asfreq('D').info())\n",
    "\n",
    "print(\"======= Monthly Frequency =======\")\n",
    "print(stocks.asfreq('M').info())"
   ]
  },
  {
   "cell_type": "markdown",
   "metadata": {},
   "source": [
    "### Notice how monthly frequency data is reduced to 325 records instead of 9723 original records. Also, memory usage is reduced by more than 98%."
   ]
  },
  {
   "cell_type": "code",
   "execution_count": 171,
   "metadata": {},
   "outputs": [
    {
     "data": {
      "text/html": [
       "<div>\n",
       "<style scoped>\n",
       "    .dataframe tbody tr th:only-of-type {\n",
       "        vertical-align: middle;\n",
       "    }\n",
       "\n",
       "    .dataframe tbody tr th {\n",
       "        vertical-align: top;\n",
       "    }\n",
       "\n",
       "    .dataframe thead th {\n",
       "        text-align: right;\n",
       "    }\n",
       "</style>\n",
       "<table border=\"1\" class=\"dataframe\">\n",
       "  <thead>\n",
       "    <tr style=\"text-align: right;\">\n",
       "      <th></th>\n",
       "      <th>AAPL</th>\n",
       "    </tr>\n",
       "    <tr>\n",
       "      <th>Date</th>\n",
       "      <th></th>\n",
       "    </tr>\n",
       "  </thead>\n",
       "  <tbody>\n",
       "    <tr>\n",
       "      <th>2018-09-30</th>\n",
       "      <td>NaN</td>\n",
       "    </tr>\n",
       "    <tr>\n",
       "      <th>2018-10-31</th>\n",
       "      <td>218.860001</td>\n",
       "    </tr>\n",
       "    <tr>\n",
       "      <th>2018-11-30</th>\n",
       "      <td>178.580002</td>\n",
       "    </tr>\n",
       "    <tr>\n",
       "      <th>2018-12-31</th>\n",
       "      <td>157.740005</td>\n",
       "    </tr>\n",
       "    <tr>\n",
       "      <th>2019-01-31</th>\n",
       "      <td>166.440002</td>\n",
       "    </tr>\n",
       "    <tr>\n",
       "      <th>2019-02-28</th>\n",
       "      <td>173.149994</td>\n",
       "    </tr>\n",
       "    <tr>\n",
       "      <th>2019-03-31</th>\n",
       "      <td>NaN</td>\n",
       "    </tr>\n",
       "    <tr>\n",
       "      <th>2019-04-30</th>\n",
       "      <td>200.669998</td>\n",
       "    </tr>\n",
       "    <tr>\n",
       "      <th>2019-05-31</th>\n",
       "      <td>175.070007</td>\n",
       "    </tr>\n",
       "    <tr>\n",
       "      <th>2019-06-30</th>\n",
       "      <td>NaN</td>\n",
       "    </tr>\n",
       "  </tbody>\n",
       "</table>\n",
       "</div>"
      ],
      "text/plain": [
       "                  AAPL\n",
       "Date                  \n",
       "2018-09-30         NaN\n",
       "2018-10-31  218.860001\n",
       "2018-11-30  178.580002\n",
       "2018-12-31  157.740005\n",
       "2019-01-31  166.440002\n",
       "2019-02-28  173.149994\n",
       "2019-03-31         NaN\n",
       "2019-04-30  200.669998\n",
       "2019-05-31  175.070007\n",
       "2019-06-30         NaN"
      ]
     },
     "execution_count": 171,
     "metadata": {},
     "output_type": "execute_result"
    }
   ],
   "source": [
    "dfm = stocks.asfreq('M')\n",
    "dfm.tail(10)"
   ]
  },
  {
   "cell_type": "code",
   "execution_count": 172,
   "metadata": {
    "scrolled": true
   },
   "outputs": [
    {
     "name": "stdout",
     "output_type": "stream",
     "text": [
      "Without ffill\n"
     ]
    },
    {
     "data": {
      "text/html": [
       "<div>\n",
       "<style scoped>\n",
       "    .dataframe tbody tr th:only-of-type {\n",
       "        vertical-align: middle;\n",
       "    }\n",
       "\n",
       "    .dataframe tbody tr th {\n",
       "        vertical-align: top;\n",
       "    }\n",
       "\n",
       "    .dataframe thead th {\n",
       "        text-align: right;\n",
       "    }\n",
       "</style>\n",
       "<table border=\"1\" class=\"dataframe\">\n",
       "  <thead>\n",
       "    <tr style=\"text-align: right;\">\n",
       "      <th></th>\n",
       "      <th>AAPL</th>\n",
       "    </tr>\n",
       "    <tr>\n",
       "      <th>Date</th>\n",
       "      <th></th>\n",
       "    </tr>\n",
       "  </thead>\n",
       "  <tbody>\n",
       "    <tr>\n",
       "      <th>1980-12-31</th>\n",
       "      <td>0.609375</td>\n",
       "    </tr>\n",
       "    <tr>\n",
       "      <th>1981-12-31</th>\n",
       "      <td>0.395089</td>\n",
       "    </tr>\n",
       "    <tr>\n",
       "      <th>1982-12-31</th>\n",
       "      <td>0.533482</td>\n",
       "    </tr>\n",
       "    <tr>\n",
       "      <th>1983-12-31</th>\n",
       "      <td>NaN</td>\n",
       "    </tr>\n",
       "    <tr>\n",
       "      <th>1984-12-31</th>\n",
       "      <td>0.520089</td>\n",
       "    </tr>\n",
       "  </tbody>\n",
       "</table>\n",
       "</div>"
      ],
      "text/plain": [
       "                AAPL\n",
       "Date                \n",
       "1980-12-31  0.609375\n",
       "1981-12-31  0.395089\n",
       "1982-12-31  0.533482\n",
       "1983-12-31       NaN\n",
       "1984-12-31  0.520089"
      ]
     },
     "execution_count": 172,
     "metadata": {},
     "output_type": "execute_result"
    },
    {
     "name": "stdout",
     "output_type": "stream",
     "text": [
      "With ffill\n"
     ]
    },
    {
     "data": {
      "text/html": [
       "<div>\n",
       "<style scoped>\n",
       "    .dataframe tbody tr th:only-of-type {\n",
       "        vertical-align: middle;\n",
       "    }\n",
       "\n",
       "    .dataframe tbody tr th {\n",
       "        vertical-align: top;\n",
       "    }\n",
       "\n",
       "    .dataframe thead th {\n",
       "        text-align: right;\n",
       "    }\n",
       "</style>\n",
       "<table border=\"1\" class=\"dataframe\">\n",
       "  <thead>\n",
       "    <tr style=\"text-align: right;\">\n",
       "      <th></th>\n",
       "      <th>AAPL</th>\n",
       "    </tr>\n",
       "    <tr>\n",
       "      <th>Date</th>\n",
       "      <th></th>\n",
       "    </tr>\n",
       "  </thead>\n",
       "  <tbody>\n",
       "    <tr>\n",
       "      <th>1980-12-31</th>\n",
       "      <td>0.609375</td>\n",
       "    </tr>\n",
       "    <tr>\n",
       "      <th>1981-12-31</th>\n",
       "      <td>0.395089</td>\n",
       "    </tr>\n",
       "    <tr>\n",
       "      <th>1982-12-31</th>\n",
       "      <td>0.533482</td>\n",
       "    </tr>\n",
       "    <tr>\n",
       "      <th>1983-12-31</th>\n",
       "      <td>0.435268</td>\n",
       "    </tr>\n",
       "    <tr>\n",
       "      <th>1984-12-31</th>\n",
       "      <td>0.520089</td>\n",
       "    </tr>\n",
       "  </tbody>\n",
       "</table>\n",
       "</div>"
      ],
      "text/plain": [
       "                AAPL\n",
       "Date                \n",
       "1980-12-31  0.609375\n",
       "1981-12-31  0.395089\n",
       "1982-12-31  0.533482\n",
       "1983-12-31  0.435268\n",
       "1984-12-31  0.520089"
      ]
     },
     "execution_count": 172,
     "metadata": {},
     "output_type": "execute_result"
    }
   ],
   "source": [
    "# Problem 2 - Convert to yearly frequency and pad the missing values\n",
    "dfy = stocks.asfreq('A')\n",
    "print('Without ffill')\n",
    "dfy.head(5)\n",
    "dfy = stocks.asfreq('A',method='ffill') # ffill takes previous non null value and use for current NaN\n",
    "print('With ffill')\n",
    "dfy.head()"
   ]
  },
  {
   "cell_type": "code",
   "execution_count": 173,
   "metadata": {},
   "outputs": [
    {
     "data": {
      "text/plain": [
       "AAPL    0.435268\n",
       "Name: 1983-12-30 00:00:00, dtype: float64"
      ]
     },
     "execution_count": 173,
     "metadata": {},
     "output_type": "execute_result"
    }
   ],
   "source": [
    "# 1983-12-31 data is coming from previous non null day\n",
    "stocks.loc['1983-12-30']"
   ]
  },
  {
   "cell_type": "markdown",
   "metadata": {},
   "source": [
    "## Upscaling\n",
    "Upscaling means creating more data points than the original dataset. Imagine you have monthly data and would like to make it weekly or daily. In this case, you will need to create extra data points (upscaling).\n",
    "\n"
   ]
  },
  {
   "cell_type": "code",
   "execution_count": 174,
   "metadata": {},
   "outputs": [
    {
     "data": {
      "text/html": [
       "<div>\n",
       "<style scoped>\n",
       "    .dataframe tbody tr th:only-of-type {\n",
       "        vertical-align: middle;\n",
       "    }\n",
       "\n",
       "    .dataframe tbody tr th {\n",
       "        vertical-align: top;\n",
       "    }\n",
       "\n",
       "    .dataframe thead th {\n",
       "        text-align: right;\n",
       "    }\n",
       "</style>\n",
       "<table border=\"1\" class=\"dataframe\">\n",
       "  <thead>\n",
       "    <tr style=\"text-align: right;\">\n",
       "      <th></th>\n",
       "      <th>value</th>\n",
       "    </tr>\n",
       "  </thead>\n",
       "  <tbody>\n",
       "    <tr>\n",
       "      <th>2018-01-07</th>\n",
       "      <td>1</td>\n",
       "    </tr>\n",
       "    <tr>\n",
       "      <th>2018-01-14</th>\n",
       "      <td>2</td>\n",
       "    </tr>\n",
       "    <tr>\n",
       "      <th>2018-01-21</th>\n",
       "      <td>3</td>\n",
       "    </tr>\n",
       "    <tr>\n",
       "      <th>2018-01-28</th>\n",
       "      <td>4</td>\n",
       "    </tr>\n",
       "  </tbody>\n",
       "</table>\n",
       "</div>"
      ],
      "text/plain": [
       "            value\n",
       "2018-01-07      1\n",
       "2018-01-14      2\n",
       "2018-01-21      3\n",
       "2018-01-28      4"
      ]
     },
     "execution_count": 174,
     "metadata": {},
     "output_type": "execute_result"
    }
   ],
   "source": [
    "# Problem 1 - Upscale a data using ffill and interpolation methods\n",
    "\n",
    "# Let us create a dummy dataframe\n",
    "index = pd.date_range(start='2018-01-01', periods=4, freq='W')\n",
    "data = pd.DataFrame([1,2,3,4], columns=['value'])\n",
    "data.set_index(index, inplace=True)\n",
    "data\n",
    "\n",
    "\n",
    "# as seen our data frequency is set to weekly, which we need to change to daily using 2 methods - ffill and interpolate"
   ]
  },
  {
   "cell_type": "markdown",
   "metadata": {},
   "source": [
    "### Upscaling data using ffill or bfill method.\n",
    "### 'ffill' stands for 'forward fill' and will propagate last valid observation forward.\n",
    "### 'bfill' stands for 'backward fill' and will propagate next valid observation backward."
   ]
  },
  {
   "cell_type": "code",
   "execution_count": 175,
   "metadata": {},
   "outputs": [
    {
     "data": {
      "text/html": [
       "<div>\n",
       "<style scoped>\n",
       "    .dataframe tbody tr th:only-of-type {\n",
       "        vertical-align: middle;\n",
       "    }\n",
       "\n",
       "    .dataframe tbody tr th {\n",
       "        vertical-align: top;\n",
       "    }\n",
       "\n",
       "    .dataframe thead th {\n",
       "        text-align: right;\n",
       "    }\n",
       "</style>\n",
       "<table border=\"1\" class=\"dataframe\">\n",
       "  <thead>\n",
       "    <tr style=\"text-align: right;\">\n",
       "      <th></th>\n",
       "      <th>value_ffill</th>\n",
       "    </tr>\n",
       "  </thead>\n",
       "  <tbody>\n",
       "    <tr>\n",
       "      <th>2018-01-07</th>\n",
       "      <td>1</td>\n",
       "    </tr>\n",
       "    <tr>\n",
       "      <th>2018-01-08</th>\n",
       "      <td>1</td>\n",
       "    </tr>\n",
       "    <tr>\n",
       "      <th>2018-01-09</th>\n",
       "      <td>1</td>\n",
       "    </tr>\n",
       "    <tr>\n",
       "      <th>2018-01-10</th>\n",
       "      <td>1</td>\n",
       "    </tr>\n",
       "    <tr>\n",
       "      <th>2018-01-11</th>\n",
       "      <td>1</td>\n",
       "    </tr>\n",
       "    <tr>\n",
       "      <th>2018-01-12</th>\n",
       "      <td>1</td>\n",
       "    </tr>\n",
       "    <tr>\n",
       "      <th>2018-01-13</th>\n",
       "      <td>1</td>\n",
       "    </tr>\n",
       "    <tr>\n",
       "      <th>2018-01-14</th>\n",
       "      <td>2</td>\n",
       "    </tr>\n",
       "    <tr>\n",
       "      <th>2018-01-15</th>\n",
       "      <td>2</td>\n",
       "    </tr>\n",
       "    <tr>\n",
       "      <th>2018-01-16</th>\n",
       "      <td>2</td>\n",
       "    </tr>\n",
       "    <tr>\n",
       "      <th>2018-01-17</th>\n",
       "      <td>2</td>\n",
       "    </tr>\n",
       "    <tr>\n",
       "      <th>2018-01-18</th>\n",
       "      <td>2</td>\n",
       "    </tr>\n",
       "    <tr>\n",
       "      <th>2018-01-19</th>\n",
       "      <td>2</td>\n",
       "    </tr>\n",
       "    <tr>\n",
       "      <th>2018-01-20</th>\n",
       "      <td>2</td>\n",
       "    </tr>\n",
       "    <tr>\n",
       "      <th>2018-01-21</th>\n",
       "      <td>3</td>\n",
       "    </tr>\n",
       "    <tr>\n",
       "      <th>2018-01-22</th>\n",
       "      <td>3</td>\n",
       "    </tr>\n",
       "    <tr>\n",
       "      <th>2018-01-23</th>\n",
       "      <td>3</td>\n",
       "    </tr>\n",
       "    <tr>\n",
       "      <th>2018-01-24</th>\n",
       "      <td>3</td>\n",
       "    </tr>\n",
       "    <tr>\n",
       "      <th>2018-01-25</th>\n",
       "      <td>3</td>\n",
       "    </tr>\n",
       "    <tr>\n",
       "      <th>2018-01-26</th>\n",
       "      <td>3</td>\n",
       "    </tr>\n",
       "  </tbody>\n",
       "</table>\n",
       "</div>"
      ],
      "text/plain": [
       "            value_ffill\n",
       "2018-01-07            1\n",
       "2018-01-08            1\n",
       "2018-01-09            1\n",
       "2018-01-10            1\n",
       "2018-01-11            1\n",
       "2018-01-12            1\n",
       "2018-01-13            1\n",
       "2018-01-14            2\n",
       "2018-01-15            2\n",
       "2018-01-16            2\n",
       "2018-01-17            2\n",
       "2018-01-18            2\n",
       "2018-01-19            2\n",
       "2018-01-20            2\n",
       "2018-01-21            3\n",
       "2018-01-22            3\n",
       "2018-01-23            3\n",
       "2018-01-24            3\n",
       "2018-01-25            3\n",
       "2018-01-26            3"
      ]
     },
     "execution_count": 175,
     "metadata": {},
     "output_type": "execute_result"
    }
   ],
   "source": [
    "# Using ffill method\n",
    "data_f = data.resample('D').ffill().add_suffix('_ffill')\n",
    "data_f.head(20)"
   ]
  },
  {
   "cell_type": "markdown",
   "metadata": {},
   "source": [
    "### As seen above, last non-null value is propagated forward."
   ]
  },
  {
   "cell_type": "markdown",
   "metadata": {},
   "source": [
    "# Using Interpolate method\n",
    "Interpolation provides various methods of its own to compute the missing values. For this exercise we will use linear interpolation."
   ]
  },
  {
   "cell_type": "code",
   "execution_count": 176,
   "metadata": {},
   "outputs": [
    {
     "data": {
      "text/html": [
       "<div>\n",
       "<style scoped>\n",
       "    .dataframe tbody tr th:only-of-type {\n",
       "        vertical-align: middle;\n",
       "    }\n",
       "\n",
       "    .dataframe tbody tr th {\n",
       "        vertical-align: top;\n",
       "    }\n",
       "\n",
       "    .dataframe thead th {\n",
       "        text-align: right;\n",
       "    }\n",
       "</style>\n",
       "<table border=\"1\" class=\"dataframe\">\n",
       "  <thead>\n",
       "    <tr style=\"text-align: right;\">\n",
       "      <th></th>\n",
       "      <th>value_interpolate</th>\n",
       "    </tr>\n",
       "  </thead>\n",
       "  <tbody>\n",
       "    <tr>\n",
       "      <th>2018-01-07</th>\n",
       "      <td>1.000000</td>\n",
       "    </tr>\n",
       "    <tr>\n",
       "      <th>2018-01-08</th>\n",
       "      <td>1.142857</td>\n",
       "    </tr>\n",
       "    <tr>\n",
       "      <th>2018-01-09</th>\n",
       "      <td>1.285714</td>\n",
       "    </tr>\n",
       "    <tr>\n",
       "      <th>2018-01-10</th>\n",
       "      <td>1.428571</td>\n",
       "    </tr>\n",
       "    <tr>\n",
       "      <th>2018-01-11</th>\n",
       "      <td>1.571429</td>\n",
       "    </tr>\n",
       "    <tr>\n",
       "      <th>2018-01-12</th>\n",
       "      <td>1.714286</td>\n",
       "    </tr>\n",
       "    <tr>\n",
       "      <th>2018-01-13</th>\n",
       "      <td>1.857143</td>\n",
       "    </tr>\n",
       "    <tr>\n",
       "      <th>2018-01-14</th>\n",
       "      <td>2.000000</td>\n",
       "    </tr>\n",
       "    <tr>\n",
       "      <th>2018-01-15</th>\n",
       "      <td>2.142857</td>\n",
       "    </tr>\n",
       "    <tr>\n",
       "      <th>2018-01-16</th>\n",
       "      <td>2.285714</td>\n",
       "    </tr>\n",
       "    <tr>\n",
       "      <th>2018-01-17</th>\n",
       "      <td>2.428571</td>\n",
       "    </tr>\n",
       "    <tr>\n",
       "      <th>2018-01-18</th>\n",
       "      <td>2.571429</td>\n",
       "    </tr>\n",
       "    <tr>\n",
       "      <th>2018-01-19</th>\n",
       "      <td>2.714286</td>\n",
       "    </tr>\n",
       "    <tr>\n",
       "      <th>2018-01-20</th>\n",
       "      <td>2.857143</td>\n",
       "    </tr>\n",
       "    <tr>\n",
       "      <th>2018-01-21</th>\n",
       "      <td>3.000000</td>\n",
       "    </tr>\n",
       "    <tr>\n",
       "      <th>2018-01-22</th>\n",
       "      <td>3.142857</td>\n",
       "    </tr>\n",
       "    <tr>\n",
       "      <th>2018-01-23</th>\n",
       "      <td>3.285714</td>\n",
       "    </tr>\n",
       "    <tr>\n",
       "      <th>2018-01-24</th>\n",
       "      <td>3.428571</td>\n",
       "    </tr>\n",
       "    <tr>\n",
       "      <th>2018-01-25</th>\n",
       "      <td>3.571429</td>\n",
       "    </tr>\n",
       "    <tr>\n",
       "      <th>2018-01-26</th>\n",
       "      <td>3.714286</td>\n",
       "    </tr>\n",
       "  </tbody>\n",
       "</table>\n",
       "</div>"
      ],
      "text/plain": [
       "            value_interpolate\n",
       "2018-01-07           1.000000\n",
       "2018-01-08           1.142857\n",
       "2018-01-09           1.285714\n",
       "2018-01-10           1.428571\n",
       "2018-01-11           1.571429\n",
       "2018-01-12           1.714286\n",
       "2018-01-13           1.857143\n",
       "2018-01-14           2.000000\n",
       "2018-01-15           2.142857\n",
       "2018-01-16           2.285714\n",
       "2018-01-17           2.428571\n",
       "2018-01-18           2.571429\n",
       "2018-01-19           2.714286\n",
       "2018-01-20           2.857143\n",
       "2018-01-21           3.000000\n",
       "2018-01-22           3.142857\n",
       "2018-01-23           3.285714\n",
       "2018-01-24           3.428571\n",
       "2018-01-25           3.571429\n",
       "2018-01-26           3.714286"
      ]
     },
     "execution_count": 176,
     "metadata": {},
     "output_type": "execute_result"
    }
   ],
   "source": [
    "data_in = data.resample('D').interpolate().add_suffix('_interpolate')\n",
    "data_in.head(20)"
   ]
  },
  {
   "cell_type": "code",
   "execution_count": 177,
   "metadata": {},
   "outputs": [
    {
     "data": {
      "image/png": "[encoded data removed]",
      "text/plain": [
       "<Figure size 432x288 with 1 Axes>"
      ]
     },
     "metadata": {
      "needs_background": "light"
     },
     "output_type": "display_data"
    }
   ],
   "source": [
    "# Let us plot these 2 and examine them visually\n",
    "\n",
    "pd.concat([data_f, data_in], axis=1).plot()\n",
    "plt.show();"
   ]
  },
  {
   "cell_type": "markdown",
   "metadata": {},
   "source": [
    "## Downsampling\n",
    "The process of reducing the number of data points from raw dataset.\n",
    "This is achieved by aggregation technique."
   ]
  },
  {
   "cell_type": "code",
   "execution_count": 178,
   "metadata": {},
   "outputs": [
    {
     "name": "stdout",
     "output_type": "stream",
     "text": [
      "<class 'pandas.core.frame.DataFrame'>\n",
      "DatetimeIndex: 365 entries, 2018-01-01 to 2018-12-31\n",
      "Freq: D\n",
      "Data columns (total 1 columns):\n",
      "value    365 non-null float64\n",
      "dtypes: float64(1)\n",
      "memory usage: 5.7 KB\n"
     ]
    }
   ],
   "source": [
    "# Let us create a dummy dataframe with daily frequency\n",
    "index = pd.date_range(start='2018-01-01', periods=365, freq='D')\n",
    "data = pd.DataFrame(np.random.random(365), columns=['value'])\n",
    "data.set_index(index, inplace=True)\n",
    "data.info()"
   ]
  },
  {
   "cell_type": "code",
   "execution_count": 179,
   "metadata": {},
   "outputs": [
    {
     "data": {
      "text/html": [
       "<div>\n",
       "<style scoped>\n",
       "    .dataframe tbody tr th:only-of-type {\n",
       "        vertical-align: middle;\n",
       "    }\n",
       "\n",
       "    .dataframe tbody tr th {\n",
       "        vertical-align: top;\n",
       "    }\n",
       "\n",
       "    .dataframe thead th {\n",
       "        text-align: right;\n",
       "    }\n",
       "</style>\n",
       "<table border=\"1\" class=\"dataframe\">\n",
       "  <thead>\n",
       "    <tr style=\"text-align: right;\">\n",
       "      <th></th>\n",
       "      <th>value</th>\n",
       "    </tr>\n",
       "  </thead>\n",
       "  <tbody>\n",
       "    <tr>\n",
       "      <th>2018-01-31</th>\n",
       "      <td>0.460404</td>\n",
       "    </tr>\n",
       "    <tr>\n",
       "      <th>2018-02-28</th>\n",
       "      <td>0.446385</td>\n",
       "    </tr>\n",
       "    <tr>\n",
       "      <th>2018-03-31</th>\n",
       "      <td>0.413941</td>\n",
       "    </tr>\n",
       "    <tr>\n",
       "      <th>2018-04-30</th>\n",
       "      <td>0.492727</td>\n",
       "    </tr>\n",
       "    <tr>\n",
       "      <th>2018-05-31</th>\n",
       "      <td>0.529450</td>\n",
       "    </tr>\n",
       "    <tr>\n",
       "      <th>2018-06-30</th>\n",
       "      <td>0.540886</td>\n",
       "    </tr>\n",
       "    <tr>\n",
       "      <th>2018-07-31</th>\n",
       "      <td>0.547796</td>\n",
       "    </tr>\n",
       "    <tr>\n",
       "      <th>2018-08-31</th>\n",
       "      <td>0.421841</td>\n",
       "    </tr>\n",
       "    <tr>\n",
       "      <th>2018-09-30</th>\n",
       "      <td>0.506931</td>\n",
       "    </tr>\n",
       "    <tr>\n",
       "      <th>2018-10-31</th>\n",
       "      <td>0.533801</td>\n",
       "    </tr>\n",
       "    <tr>\n",
       "      <th>2018-11-30</th>\n",
       "      <td>0.583202</td>\n",
       "    </tr>\n",
       "    <tr>\n",
       "      <th>2018-12-31</th>\n",
       "      <td>0.440094</td>\n",
       "    </tr>\n",
       "  </tbody>\n",
       "</table>\n",
       "</div>"
      ],
      "text/plain": [
       "               value\n",
       "2018-01-31  0.460404\n",
       "2018-02-28  0.446385\n",
       "2018-03-31  0.413941\n",
       "2018-04-30  0.492727\n",
       "2018-05-31  0.529450\n",
       "2018-06-30  0.540886\n",
       "2018-07-31  0.547796\n",
       "2018-08-31  0.421841\n",
       "2018-09-30  0.506931\n",
       "2018-10-31  0.533801\n",
       "2018-11-30  0.583202\n",
       "2018-12-31  0.440094"
      ]
     },
     "execution_count": 179,
     "metadata": {},
     "output_type": "execute_result"
    }
   ],
   "source": [
    "# Now suppose we want to find monthly average for 'value' column (downsampling).\n",
    "# This can easily be achieved using resample method as follows:\n",
    "\n",
    "data.resample('M').mean()"
   ]
  },
  {
   "cell_type": "code",
   "execution_count": 180,
   "metadata": {},
   "outputs": [
    {
     "data": {
      "text/html": [
       "<div>\n",
       "<style scoped>\n",
       "    .dataframe tbody tr th:only-of-type {\n",
       "        vertical-align: middle;\n",
       "    }\n",
       "\n",
       "    .dataframe tbody tr th {\n",
       "        vertical-align: top;\n",
       "    }\n",
       "\n",
       "    .dataframe thead th {\n",
       "        text-align: right;\n",
       "    }\n",
       "</style>\n",
       "<table border=\"1\" class=\"dataframe\">\n",
       "  <thead>\n",
       "    <tr style=\"text-align: right;\">\n",
       "      <th></th>\n",
       "      <th>value</th>\n",
       "    </tr>\n",
       "  </thead>\n",
       "  <tbody>\n",
       "    <tr>\n",
       "      <th>2018-01-01</th>\n",
       "      <td>0.460404</td>\n",
       "    </tr>\n",
       "    <tr>\n",
       "      <th>2018-02-01</th>\n",
       "      <td>0.446385</td>\n",
       "    </tr>\n",
       "    <tr>\n",
       "      <th>2018-03-01</th>\n",
       "      <td>0.413941</td>\n",
       "    </tr>\n",
       "    <tr>\n",
       "      <th>2018-04-01</th>\n",
       "      <td>0.492727</td>\n",
       "    </tr>\n",
       "    <tr>\n",
       "      <th>2018-05-01</th>\n",
       "      <td>0.529450</td>\n",
       "    </tr>\n",
       "    <tr>\n",
       "      <th>2018-06-01</th>\n",
       "      <td>0.540886</td>\n",
       "    </tr>\n",
       "    <tr>\n",
       "      <th>2018-07-01</th>\n",
       "      <td>0.547796</td>\n",
       "    </tr>\n",
       "    <tr>\n",
       "      <th>2018-08-01</th>\n",
       "      <td>0.421841</td>\n",
       "    </tr>\n",
       "    <tr>\n",
       "      <th>2018-09-01</th>\n",
       "      <td>0.506931</td>\n",
       "    </tr>\n",
       "    <tr>\n",
       "      <th>2018-10-01</th>\n",
       "      <td>0.533801</td>\n",
       "    </tr>\n",
       "    <tr>\n",
       "      <th>2018-11-01</th>\n",
       "      <td>0.583202</td>\n",
       "    </tr>\n",
       "    <tr>\n",
       "      <th>2018-12-01</th>\n",
       "      <td>0.440094</td>\n",
       "    </tr>\n",
       "  </tbody>\n",
       "</table>\n",
       "</div>"
      ],
      "text/plain": [
       "               value\n",
       "2018-01-01  0.460404\n",
       "2018-02-01  0.446385\n",
       "2018-03-01  0.413941\n",
       "2018-04-01  0.492727\n",
       "2018-05-01  0.529450\n",
       "2018-06-01  0.540886\n",
       "2018-07-01  0.547796\n",
       "2018-08-01  0.421841\n",
       "2018-09-01  0.506931\n",
       "2018-10-01  0.533801\n",
       "2018-11-01  0.583202\n",
       "2018-12-01  0.440094"
      ]
     },
     "execution_count": 180,
     "metadata": {},
     "output_type": "execute_result"
    }
   ],
   "source": [
    "### frequency 'M' indicates last day of the month. If we want Month start, we can use 'MS' as follows\n",
    "## The result will remain same though.\n",
    "data.resample('MS').mean()"
   ]
  },
  {
   "cell_type": "code",
   "execution_count": 181,
   "metadata": {},
   "outputs": [
    {
     "data": {
      "text/html": [
       "<div>\n",
       "<style scoped>\n",
       "    .dataframe tbody tr th:only-of-type {\n",
       "        vertical-align: middle;\n",
       "    }\n",
       "\n",
       "    .dataframe tbody tr th {\n",
       "        vertical-align: top;\n",
       "    }\n",
       "\n",
       "    .dataframe thead tr th {\n",
       "        text-align: left;\n",
       "    }\n",
       "</style>\n",
       "<table border=\"1\" class=\"dataframe\">\n",
       "  <thead>\n",
       "    <tr>\n",
       "      <th></th>\n",
       "      <th colspan=\"2\" halign=\"left\">value</th>\n",
       "    </tr>\n",
       "    <tr>\n",
       "      <th></th>\n",
       "      <th>mean</th>\n",
       "      <th>median</th>\n",
       "    </tr>\n",
       "  </thead>\n",
       "  <tbody>\n",
       "    <tr>\n",
       "      <th>2018-01-01</th>\n",
       "      <td>0.460404</td>\n",
       "      <td>0.456510</td>\n",
       "    </tr>\n",
       "    <tr>\n",
       "      <th>2018-02-01</th>\n",
       "      <td>0.446385</td>\n",
       "      <td>0.384644</td>\n",
       "    </tr>\n",
       "    <tr>\n",
       "      <th>2018-03-01</th>\n",
       "      <td>0.413941</td>\n",
       "      <td>0.401265</td>\n",
       "    </tr>\n",
       "    <tr>\n",
       "      <th>2018-04-01</th>\n",
       "      <td>0.492727</td>\n",
       "      <td>0.480749</td>\n",
       "    </tr>\n",
       "    <tr>\n",
       "      <th>2018-05-01</th>\n",
       "      <td>0.529450</td>\n",
       "      <td>0.547326</td>\n",
       "    </tr>\n",
       "    <tr>\n",
       "      <th>2018-06-01</th>\n",
       "      <td>0.540886</td>\n",
       "      <td>0.567167</td>\n",
       "    </tr>\n",
       "    <tr>\n",
       "      <th>2018-07-01</th>\n",
       "      <td>0.547796</td>\n",
       "      <td>0.556787</td>\n",
       "    </tr>\n",
       "    <tr>\n",
       "      <th>2018-08-01</th>\n",
       "      <td>0.421841</td>\n",
       "      <td>0.431076</td>\n",
       "    </tr>\n",
       "    <tr>\n",
       "      <th>2018-09-01</th>\n",
       "      <td>0.506931</td>\n",
       "      <td>0.474453</td>\n",
       "    </tr>\n",
       "    <tr>\n",
       "      <th>2018-10-01</th>\n",
       "      <td>0.533801</td>\n",
       "      <td>0.579239</td>\n",
       "    </tr>\n",
       "    <tr>\n",
       "      <th>2018-11-01</th>\n",
       "      <td>0.583202</td>\n",
       "      <td>0.635365</td>\n",
       "    </tr>\n",
       "    <tr>\n",
       "      <th>2018-12-01</th>\n",
       "      <td>0.440094</td>\n",
       "      <td>0.363357</td>\n",
       "    </tr>\n",
       "  </tbody>\n",
       "</table>\n",
       "</div>"
      ],
      "text/plain": [
       "               value          \n",
       "                mean    median\n",
       "2018-01-01  0.460404  0.456510\n",
       "2018-02-01  0.446385  0.384644\n",
       "2018-03-01  0.413941  0.401265\n",
       "2018-04-01  0.492727  0.480749\n",
       "2018-05-01  0.529450  0.547326\n",
       "2018-06-01  0.540886  0.567167\n",
       "2018-07-01  0.547796  0.556787\n",
       "2018-08-01  0.421841  0.431076\n",
       "2018-09-01  0.506931  0.474453\n",
       "2018-10-01  0.533801  0.579239\n",
       "2018-11-01  0.583202  0.635365\n",
       "2018-12-01  0.440094  0.363357"
      ]
     },
     "execution_count": 181,
     "metadata": {},
     "output_type": "execute_result"
    }
   ],
   "source": [
    "## We can also apply multiple aggregations in same flow\n",
    "data.resample('MS').agg(['mean', 'median'])"
   ]
  },
  {
   "cell_type": "code",
   "execution_count": 182,
   "metadata": {},
   "outputs": [
    {
     "data": {
      "image/png": "[encoded data removed]",
      "text/plain": [
       "<Figure size 432x288 with 1 Axes>"
      ]
     },
     "metadata": {
      "needs_background": "light"
     },
     "output_type": "display_data"
    }
   ],
   "source": [
    "## finally we can plot these aggregations to visualize the results\n",
    "data.resample('MS').agg(['mean', 'median']).plot()\n",
    "plt.show();"
   ]
  },
  {
   "cell_type": "markdown",
   "metadata": {},
   "source": [
    "# Exercise - 6\n",
    "### Shifting time frames inside a pandas dataframe\n",
    "\n",
    "### We will learn how to shift all values in a column in forward/backward direction"
   ]
  },
  {
   "cell_type": "code",
   "execution_count": 183,
   "metadata": {},
   "outputs": [
    {
     "data": {
      "text/html": [
       "<div>\n",
       "<style scoped>\n",
       "    .dataframe tbody tr th:only-of-type {\n",
       "        vertical-align: middle;\n",
       "    }\n",
       "\n",
       "    .dataframe tbody tr th {\n",
       "        vertical-align: top;\n",
       "    }\n",
       "\n",
       "    .dataframe thead th {\n",
       "        text-align: right;\n",
       "    }\n",
       "</style>\n",
       "<table border=\"1\" class=\"dataframe\">\n",
       "  <thead>\n",
       "    <tr style=\"text-align: right;\">\n",
       "      <th></th>\n",
       "      <th>AAPL</th>\n",
       "      <th>forward_2days</th>\n",
       "    </tr>\n",
       "    <tr>\n",
       "      <th>Date</th>\n",
       "      <th></th>\n",
       "      <th></th>\n",
       "    </tr>\n",
       "  </thead>\n",
       "  <tbody>\n",
       "    <tr>\n",
       "      <th>1980-12-12</th>\n",
       "      <td>0.513393</td>\n",
       "      <td>NaN</td>\n",
       "    </tr>\n",
       "    <tr>\n",
       "      <th>1980-12-15</th>\n",
       "      <td>0.486607</td>\n",
       "      <td>NaN</td>\n",
       "    </tr>\n",
       "    <tr>\n",
       "      <th>1980-12-16</th>\n",
       "      <td>0.450893</td>\n",
       "      <td>0.513393</td>\n",
       "    </tr>\n",
       "    <tr>\n",
       "      <th>1980-12-17</th>\n",
       "      <td>0.462054</td>\n",
       "      <td>0.486607</td>\n",
       "    </tr>\n",
       "    <tr>\n",
       "      <th>1980-12-18</th>\n",
       "      <td>0.475446</td>\n",
       "      <td>0.450893</td>\n",
       "    </tr>\n",
       "    <tr>\n",
       "      <th>1980-12-19</th>\n",
       "      <td>0.504464</td>\n",
       "      <td>0.462054</td>\n",
       "    </tr>\n",
       "    <tr>\n",
       "      <th>1980-12-22</th>\n",
       "      <td>0.529018</td>\n",
       "      <td>0.475446</td>\n",
       "    </tr>\n",
       "    <tr>\n",
       "      <th>1980-12-23</th>\n",
       "      <td>0.551339</td>\n",
       "      <td>0.504464</td>\n",
       "    </tr>\n",
       "    <tr>\n",
       "      <th>1980-12-24</th>\n",
       "      <td>0.580357</td>\n",
       "      <td>0.529018</td>\n",
       "    </tr>\n",
       "    <tr>\n",
       "      <th>1980-12-26</th>\n",
       "      <td>0.633929</td>\n",
       "      <td>0.551339</td>\n",
       "    </tr>\n",
       "  </tbody>\n",
       "</table>\n",
       "</div>"
      ],
      "text/plain": [
       "                AAPL  forward_2days\n",
       "Date                               \n",
       "1980-12-12  0.513393            NaN\n",
       "1980-12-15  0.486607            NaN\n",
       "1980-12-16  0.450893       0.513393\n",
       "1980-12-17  0.462054       0.486607\n",
       "1980-12-18  0.475446       0.450893\n",
       "1980-12-19  0.504464       0.462054\n",
       "1980-12-22  0.529018       0.475446\n",
       "1980-12-23  0.551339       0.504464\n",
       "1980-12-24  0.580357       0.529018\n",
       "1980-12-26  0.633929       0.551339"
      ]
     },
     "execution_count": 183,
     "metadata": {},
     "output_type": "execute_result"
    }
   ],
   "source": [
    "# Problem 1 - Create a new column with all values of APPL stock shifted by 2 days in future.\n",
    "stocks['forward_2days'] = stocks.AAPL.shift(periods=2) # stocks frequency is 'D' - daily.\n",
    "stocks.head(10)"
   ]
  },
  {
   "cell_type": "code",
   "execution_count": 184,
   "metadata": {},
   "outputs": [
    {
     "data": {
      "text/html": [
       "<div>\n",
       "<style scoped>\n",
       "    .dataframe tbody tr th:only-of-type {\n",
       "        vertical-align: middle;\n",
       "    }\n",
       "\n",
       "    .dataframe tbody tr th {\n",
       "        vertical-align: top;\n",
       "    }\n",
       "\n",
       "    .dataframe thead th {\n",
       "        text-align: right;\n",
       "    }\n",
       "</style>\n",
       "<table border=\"1\" class=\"dataframe\">\n",
       "  <thead>\n",
       "    <tr style=\"text-align: right;\">\n",
       "      <th></th>\n",
       "      <th>AAPL</th>\n",
       "      <th>forward_2days</th>\n",
       "      <th>backward_3days</th>\n",
       "    </tr>\n",
       "    <tr>\n",
       "      <th>Date</th>\n",
       "      <th></th>\n",
       "      <th></th>\n",
       "      <th></th>\n",
       "    </tr>\n",
       "  </thead>\n",
       "  <tbody>\n",
       "    <tr>\n",
       "      <th>2019-06-28</th>\n",
       "      <td>197.919998</td>\n",
       "      <td>199.800003</td>\n",
       "      <td>204.410004</td>\n",
       "    </tr>\n",
       "    <tr>\n",
       "      <th>2019-07-01</th>\n",
       "      <td>201.550003</td>\n",
       "      <td>199.740005</td>\n",
       "      <td>204.229996</td>\n",
       "    </tr>\n",
       "    <tr>\n",
       "      <th>2019-07-02</th>\n",
       "      <td>202.729996</td>\n",
       "      <td>197.919998</td>\n",
       "      <td>NaN</td>\n",
       "    </tr>\n",
       "    <tr>\n",
       "      <th>2019-07-03</th>\n",
       "      <td>204.410004</td>\n",
       "      <td>201.550003</td>\n",
       "      <td>NaN</td>\n",
       "    </tr>\n",
       "    <tr>\n",
       "      <th>2019-07-05</th>\n",
       "      <td>204.229996</td>\n",
       "      <td>202.729996</td>\n",
       "      <td>NaN</td>\n",
       "    </tr>\n",
       "  </tbody>\n",
       "</table>\n",
       "</div>"
      ],
      "text/plain": [
       "                  AAPL  forward_2days  backward_3days\n",
       "Date                                                 \n",
       "2019-06-28  197.919998     199.800003      204.410004\n",
       "2019-07-01  201.550003     199.740005      204.229996\n",
       "2019-07-02  202.729996     197.919998             NaN\n",
       "2019-07-03  204.410004     201.550003             NaN\n",
       "2019-07-05  204.229996     202.729996             NaN"
      ]
     },
     "execution_count": 184,
     "metadata": {},
     "output_type": "execute_result"
    }
   ],
   "source": [
    "# Problem 2 - Create a new column with APPL values shifted by 3 days backward\n",
    "\n",
    "stocks['backward_3days'] = stocks.AAPL.shift(periods= -3)\n",
    "stocks.tail(5)"
   ]
  },
  {
   "cell_type": "code",
   "execution_count": 185,
   "metadata": {},
   "outputs": [
    {
     "data": {
      "text/html": [
       "<div>\n",
       "<style scoped>\n",
       "    .dataframe tbody tr th:only-of-type {\n",
       "        vertical-align: middle;\n",
       "    }\n",
       "\n",
       "    .dataframe tbody tr th {\n",
       "        vertical-align: top;\n",
       "    }\n",
       "\n",
       "    .dataframe thead th {\n",
       "        text-align: right;\n",
       "    }\n",
       "</style>\n",
       "<table border=\"1\" class=\"dataframe\">\n",
       "  <thead>\n",
       "    <tr style=\"text-align: right;\">\n",
       "      <th></th>\n",
       "      <th>AAPL</th>\n",
       "      <th>forward_2days</th>\n",
       "      <th>backward_3days</th>\n",
       "      <th>forward_1week</th>\n",
       "    </tr>\n",
       "    <tr>\n",
       "      <th>Date</th>\n",
       "      <th></th>\n",
       "      <th></th>\n",
       "      <th></th>\n",
       "      <th></th>\n",
       "    </tr>\n",
       "  </thead>\n",
       "  <tbody>\n",
       "    <tr>\n",
       "      <th>1980-12-12</th>\n",
       "      <td>0.513393</td>\n",
       "      <td>NaN</td>\n",
       "      <td>0.462054</td>\n",
       "      <td>NaN</td>\n",
       "    </tr>\n",
       "    <tr>\n",
       "      <th>1980-12-15</th>\n",
       "      <td>0.486607</td>\n",
       "      <td>NaN</td>\n",
       "      <td>0.475446</td>\n",
       "      <td>NaN</td>\n",
       "    </tr>\n",
       "    <tr>\n",
       "      <th>1980-12-16</th>\n",
       "      <td>0.450893</td>\n",
       "      <td>0.513393</td>\n",
       "      <td>0.504464</td>\n",
       "      <td>NaN</td>\n",
       "    </tr>\n",
       "    <tr>\n",
       "      <th>1980-12-17</th>\n",
       "      <td>0.462054</td>\n",
       "      <td>0.486607</td>\n",
       "      <td>0.529018</td>\n",
       "      <td>NaN</td>\n",
       "    </tr>\n",
       "    <tr>\n",
       "      <th>1980-12-18</th>\n",
       "      <td>0.475446</td>\n",
       "      <td>0.450893</td>\n",
       "      <td>0.551339</td>\n",
       "      <td>NaN</td>\n",
       "    </tr>\n",
       "    <tr>\n",
       "      <th>1980-12-19</th>\n",
       "      <td>0.504464</td>\n",
       "      <td>0.462054</td>\n",
       "      <td>0.580357</td>\n",
       "      <td>0.513393</td>\n",
       "    </tr>\n",
       "    <tr>\n",
       "      <th>1980-12-22</th>\n",
       "      <td>0.529018</td>\n",
       "      <td>0.475446</td>\n",
       "      <td>0.633929</td>\n",
       "      <td>0.486607</td>\n",
       "    </tr>\n",
       "    <tr>\n",
       "      <th>1980-12-23</th>\n",
       "      <td>0.551339</td>\n",
       "      <td>0.504464</td>\n",
       "      <td>0.642857</td>\n",
       "      <td>0.450893</td>\n",
       "    </tr>\n",
       "    <tr>\n",
       "      <th>1980-12-24</th>\n",
       "      <td>0.580357</td>\n",
       "      <td>0.529018</td>\n",
       "      <td>0.627232</td>\n",
       "      <td>0.462054</td>\n",
       "    </tr>\n",
       "    <tr>\n",
       "      <th>1980-12-26</th>\n",
       "      <td>0.633929</td>\n",
       "      <td>0.551339</td>\n",
       "      <td>0.609375</td>\n",
       "      <td>0.504464</td>\n",
       "    </tr>\n",
       "  </tbody>\n",
       "</table>\n",
       "</div>"
      ],
      "text/plain": [
       "                AAPL  forward_2days  backward_3days  forward_1week\n",
       "Date                                                              \n",
       "1980-12-12  0.513393            NaN        0.462054            NaN\n",
       "1980-12-15  0.486607            NaN        0.475446            NaN\n",
       "1980-12-16  0.450893       0.513393        0.504464            NaN\n",
       "1980-12-17  0.462054       0.486607        0.529018            NaN\n",
       "1980-12-18  0.475446       0.450893        0.551339            NaN\n",
       "1980-12-19  0.504464       0.462054        0.580357       0.513393\n",
       "1980-12-22  0.529018       0.475446        0.633929       0.486607\n",
       "1980-12-23  0.551339       0.504464        0.642857       0.450893\n",
       "1980-12-24  0.580357       0.529018        0.627232       0.462054\n",
       "1980-12-26  0.633929       0.551339        0.609375       0.504464"
      ]
     },
     "execution_count": 185,
     "metadata": {},
     "output_type": "execute_result"
    }
   ],
   "source": [
    "# Problem 3 - Create a new column with APPL values shifted by 1 week forward\n",
    "# here the data is on daily frequency so if we set frequency to 'W', \"M\", 'A', it will give ValueError\n",
    "# due to duplicate weeks, months, and year in the index column.\n",
    "# So, to avoid this issue, we can set periods = 5 and freq to Business days for 1 week shift.\n",
    "stocks['forward_1week'] = stocks.AAPL.shift(periods=5, freq='B')\n",
    "stocks.head(10)"
   ]
  },
  {
   "cell_type": "markdown",
   "metadata": {},
   "source": [
    "# Exercise - 7\n",
    "### Find percent change between consecutive weeks using period shifts."
   ]
  },
  {
   "cell_type": "code",
   "execution_count": 186,
   "metadata": {},
   "outputs": [
    {
     "data": {
      "text/html": [
       "<div>\n",
       "<style scoped>\n",
       "    .dataframe tbody tr th:only-of-type {\n",
       "        vertical-align: middle;\n",
       "    }\n",
       "\n",
       "    .dataframe tbody tr th {\n",
       "        vertical-align: top;\n",
       "    }\n",
       "\n",
       "    .dataframe thead th {\n",
       "        text-align: right;\n",
       "    }\n",
       "</style>\n",
       "<table border=\"1\" class=\"dataframe\">\n",
       "  <thead>\n",
       "    <tr style=\"text-align: right;\">\n",
       "      <th></th>\n",
       "      <th>AAPL</th>\n",
       "      <th>forward_2days</th>\n",
       "      <th>backward_3days</th>\n",
       "      <th>forward_1week</th>\n",
       "      <th>return</th>\n",
       "    </tr>\n",
       "    <tr>\n",
       "      <th>Date</th>\n",
       "      <th></th>\n",
       "      <th></th>\n",
       "      <th></th>\n",
       "      <th></th>\n",
       "      <th></th>\n",
       "    </tr>\n",
       "  </thead>\n",
       "  <tbody>\n",
       "    <tr>\n",
       "      <th>1980-12-12</th>\n",
       "      <td>0.513393</td>\n",
       "      <td>NaN</td>\n",
       "      <td>0.462054</td>\n",
       "      <td>NaN</td>\n",
       "      <td>NaN</td>\n",
       "    </tr>\n",
       "    <tr>\n",
       "      <th>1980-12-15</th>\n",
       "      <td>0.486607</td>\n",
       "      <td>NaN</td>\n",
       "      <td>0.475446</td>\n",
       "      <td>NaN</td>\n",
       "      <td>NaN</td>\n",
       "    </tr>\n",
       "    <tr>\n",
       "      <th>1980-12-16</th>\n",
       "      <td>0.450893</td>\n",
       "      <td>0.513393</td>\n",
       "      <td>0.504464</td>\n",
       "      <td>NaN</td>\n",
       "      <td>NaN</td>\n",
       "    </tr>\n",
       "    <tr>\n",
       "      <th>1980-12-17</th>\n",
       "      <td>0.462054</td>\n",
       "      <td>0.486607</td>\n",
       "      <td>0.529018</td>\n",
       "      <td>NaN</td>\n",
       "      <td>NaN</td>\n",
       "    </tr>\n",
       "    <tr>\n",
       "      <th>1980-12-18</th>\n",
       "      <td>0.475446</td>\n",
       "      <td>0.450893</td>\n",
       "      <td>0.551339</td>\n",
       "      <td>NaN</td>\n",
       "      <td>NaN</td>\n",
       "    </tr>\n",
       "    <tr>\n",
       "      <th>1980-12-19</th>\n",
       "      <td>0.504464</td>\n",
       "      <td>0.462054</td>\n",
       "      <td>0.580357</td>\n",
       "      <td>0.513393</td>\n",
       "      <td>-1.739213</td>\n",
       "    </tr>\n",
       "    <tr>\n",
       "      <th>1980-12-22</th>\n",
       "      <td>0.529018</td>\n",
       "      <td>0.475446</td>\n",
       "      <td>0.633929</td>\n",
       "      <td>0.486607</td>\n",
       "      <td>8.715658</td>\n",
       "    </tr>\n",
       "    <tr>\n",
       "      <th>1980-12-23</th>\n",
       "      <td>0.551339</td>\n",
       "      <td>0.504464</td>\n",
       "      <td>0.642857</td>\n",
       "      <td>0.450893</td>\n",
       "      <td>22.277126</td>\n",
       "    </tr>\n",
       "    <tr>\n",
       "      <th>1980-12-24</th>\n",
       "      <td>0.580357</td>\n",
       "      <td>0.529018</td>\n",
       "      <td>0.627232</td>\n",
       "      <td>0.462054</td>\n",
       "      <td>25.603717</td>\n",
       "    </tr>\n",
       "    <tr>\n",
       "      <th>1980-12-26</th>\n",
       "      <td>0.633929</td>\n",
       "      <td>0.551339</td>\n",
       "      <td>0.609375</td>\n",
       "      <td>0.504464</td>\n",
       "      <td>25.663873</td>\n",
       "    </tr>\n",
       "  </tbody>\n",
       "</table>\n",
       "</div>"
      ],
      "text/plain": [
       "                AAPL  forward_2days  backward_3days  forward_1week     return\n",
       "Date                                                                         \n",
       "1980-12-12  0.513393            NaN        0.462054            NaN        NaN\n",
       "1980-12-15  0.486607            NaN        0.475446            NaN        NaN\n",
       "1980-12-16  0.450893       0.513393        0.504464            NaN        NaN\n",
       "1980-12-17  0.462054       0.486607        0.529018            NaN        NaN\n",
       "1980-12-18  0.475446       0.450893        0.551339            NaN        NaN\n",
       "1980-12-19  0.504464       0.462054        0.580357       0.513393  -1.739213\n",
       "1980-12-22  0.529018       0.475446        0.633929       0.486607   8.715658\n",
       "1980-12-23  0.551339       0.504464        0.642857       0.450893  22.277126\n",
       "1980-12-24  0.580357       0.529018        0.627232       0.462054  25.603717\n",
       "1980-12-26  0.633929       0.551339        0.609375       0.504464  25.663873"
      ]
     },
     "execution_count": 186,
     "metadata": {},
     "output_type": "execute_result"
    }
   ],
   "source": [
    "# Problem 1 - How much is the percentage return on APPLE's stock in consecutive weeks?\n",
    "\n",
    "stocks['return'] = stocks['AAPL'].\\\n",
    "                    sub(stocks['forward_1week']).\\\n",
    "                    div(stocks['forward_1week']).\\\n",
    "                    mul(100)\n",
    "stocks.head(10)"
   ]
  },
  {
   "cell_type": "code",
   "execution_count": 187,
   "metadata": {},
   "outputs": [
    {
     "data": {
      "text/html": [
       "<div>\n",
       "<style scoped>\n",
       "    .dataframe tbody tr th:only-of-type {\n",
       "        vertical-align: middle;\n",
       "    }\n",
       "\n",
       "    .dataframe tbody tr th {\n",
       "        vertical-align: top;\n",
       "    }\n",
       "\n",
       "    .dataframe thead th {\n",
       "        text-align: right;\n",
       "    }\n",
       "</style>\n",
       "<table border=\"1\" class=\"dataframe\">\n",
       "  <thead>\n",
       "    <tr style=\"text-align: right;\">\n",
       "      <th></th>\n",
       "      <th>AAPL</th>\n",
       "      <th>return_1</th>\n",
       "    </tr>\n",
       "    <tr>\n",
       "      <th>Date</th>\n",
       "      <th></th>\n",
       "      <th></th>\n",
       "    </tr>\n",
       "  </thead>\n",
       "  <tbody>\n",
       "    <tr>\n",
       "      <th>1980-12-12</th>\n",
       "      <td>0.513393</td>\n",
       "      <td>NaN</td>\n",
       "    </tr>\n",
       "    <tr>\n",
       "      <th>1980-12-15</th>\n",
       "      <td>0.486607</td>\n",
       "      <td>NaN</td>\n",
       "    </tr>\n",
       "    <tr>\n",
       "      <th>1980-12-16</th>\n",
       "      <td>0.450893</td>\n",
       "      <td>NaN</td>\n",
       "    </tr>\n",
       "    <tr>\n",
       "      <th>1980-12-17</th>\n",
       "      <td>0.462054</td>\n",
       "      <td>NaN</td>\n",
       "    </tr>\n",
       "    <tr>\n",
       "      <th>1980-12-18</th>\n",
       "      <td>0.475446</td>\n",
       "      <td>NaN</td>\n",
       "    </tr>\n",
       "    <tr>\n",
       "      <th>1980-12-19</th>\n",
       "      <td>0.504464</td>\n",
       "      <td>-1.739213</td>\n",
       "    </tr>\n",
       "    <tr>\n",
       "      <th>1980-12-22</th>\n",
       "      <td>0.529018</td>\n",
       "      <td>8.715658</td>\n",
       "    </tr>\n",
       "    <tr>\n",
       "      <th>1980-12-23</th>\n",
       "      <td>0.551339</td>\n",
       "      <td>22.277126</td>\n",
       "    </tr>\n",
       "    <tr>\n",
       "      <th>1980-12-24</th>\n",
       "      <td>0.580357</td>\n",
       "      <td>25.603717</td>\n",
       "    </tr>\n",
       "    <tr>\n",
       "      <th>1980-12-26</th>\n",
       "      <td>0.633929</td>\n",
       "      <td>33.333544</td>\n",
       "    </tr>\n",
       "  </tbody>\n",
       "</table>\n",
       "</div>"
      ],
      "text/plain": [
       "                AAPL   return_1\n",
       "Date                           \n",
       "1980-12-12  0.513393        NaN\n",
       "1980-12-15  0.486607        NaN\n",
       "1980-12-16  0.450893        NaN\n",
       "1980-12-17  0.462054        NaN\n",
       "1980-12-18  0.475446        NaN\n",
       "1980-12-19  0.504464  -1.739213\n",
       "1980-12-22  0.529018   8.715658\n",
       "1980-12-23  0.551339  22.277126\n",
       "1980-12-24  0.580357  25.603717\n",
       "1980-12-26  0.633929  33.333544"
      ]
     },
     "execution_count": 187,
     "metadata": {},
     "output_type": "execute_result"
    }
   ],
   "source": [
    "# Problem 2 - Simpler approach to solve above problem\n",
    "\n",
    "stocks['return_1'] = stocks.AAPL.pct_change(periods=5).mul(100)\n",
    "stocks[['AAPL', 'return_1']].head(10)"
   ]
  },
  {
   "cell_type": "markdown",
   "metadata": {},
   "source": [
    "# Exercise - 8\n",
    "### Combining Multiple Datasets on same time series index"
   ]
  },
  {
   "cell_type": "code",
   "execution_count": 188,
   "metadata": {},
   "outputs": [
    {
     "name": "stdout",
     "output_type": "stream",
     "text": [
      "<class 'pandas.core.frame.DataFrame'>\n",
      "DatetimeIndex: 11728 entries, 1973-02-21 to 2019-08-19\n",
      "Data columns (total 1 columns):\n",
      "BAC    11728 non-null float64\n",
      "dtypes: float64(1)\n",
      "memory usage: 183.2 KB\n"
     ]
    }
   ],
   "source": [
    "# Load few datasets first\n",
    "bac = pd.read_csv('data/BAC.csv', parse_dates=['Date'], index_col='Date')\n",
    "bac.info()"
   ]
  },
  {
   "cell_type": "code",
   "execution_count": 189,
   "metadata": {},
   "outputs": [
    {
     "name": "stdout",
     "output_type": "stream",
     "text": [
      "<class 'pandas.core.frame.DataFrame'>\n",
      "DatetimeIndex: 11678 entries, 1973-05-03 to 2019-08-19\n",
      "Data columns (total 1 columns):\n",
      "BK    11678 non-null float64\n",
      "dtypes: float64(1)\n",
      "memory usage: 182.5 KB\n"
     ]
    }
   ],
   "source": [
    "bk = pd.read_csv('data/BK.csv', parse_dates=['Date'], index_col='Date')\n",
    "bk.info()"
   ]
  },
  {
   "cell_type": "code",
   "execution_count": 190,
   "metadata": {},
   "outputs": [
    {
     "name": "stdout",
     "output_type": "stream",
     "text": [
      "<class 'pandas.core.frame.DataFrame'>\n",
      "DatetimeIndex: 9942 entries, 1980-03-17 to 2019-08-19\n",
      "Data columns (total 1 columns):\n",
      "JPM    9942 non-null float64\n",
      "dtypes: float64(1)\n",
      "memory usage: 155.3 KB\n"
     ]
    }
   ],
   "source": [
    "jpm = pd.read_csv('data/JPM.csv', parse_dates=['Date'], index_col='Date')\n",
    "jpm.info()"
   ]
  },
  {
   "cell_type": "code",
   "execution_count": 191,
   "metadata": {},
   "outputs": [
    {
     "name": "stdout",
     "output_type": "stream",
     "text": [
      "<class 'pandas.core.frame.DataFrame'>\n",
      "DatetimeIndex: 11908 entries, 1972-06-01 to 2019-08-19\n",
      "Data columns (total 1 columns):\n",
      "WFC    11908 non-null float64\n",
      "dtypes: float64(1)\n",
      "memory usage: 186.1 KB\n"
     ]
    }
   ],
   "source": [
    "wf = pd.read_csv('data/WFC.csv', parse_dates=['Date'], index_col='Date')\n",
    "wf.info()"
   ]
  },
  {
   "cell_type": "markdown",
   "metadata": {},
   "source": [
    "### If you notice all of the dataframes have different number of rows. So, when we combine them, there will be NaN for some of the dates. An easy way to fix it, is by dropping any nulls."
   ]
  },
  {
   "cell_type": "code",
   "execution_count": 192,
   "metadata": {},
   "outputs": [
    {
     "name": "stdout",
     "output_type": "stream",
     "text": [
      "<class 'pandas.core.frame.DataFrame'>\n",
      "DatetimeIndex: 9942 entries, 1980-03-17 to 2019-08-19\n",
      "Data columns (total 4 columns):\n",
      "BAC    9942 non-null float64\n",
      "BK     9942 non-null float64\n",
      "JPM    9942 non-null float64\n",
      "WFC    9942 non-null float64\n",
      "dtypes: float64(4)\n",
      "memory usage: 388.4 KB\n"
     ]
    }
   ],
   "source": [
    "# combining multiple dataframes on common index.\n",
    "banks = pd.concat([bac,bk,jpm,wf], axis=1).dropna() # here axis = 1 means combine each column side by side.\n",
    "banks.info()"
   ]
  },
  {
   "cell_type": "markdown",
   "metadata": {},
   "source": [
    "### as expected the final dataframe has same number of rows as the least dataframe had since we dropped any NaN rows."
   ]
  },
  {
   "cell_type": "markdown",
   "metadata": {},
   "source": [
    "# Exercise - 9\n",
    "### Plot multiple data attributes"
   ]
  },
  {
   "cell_type": "code",
   "execution_count": 193,
   "metadata": {},
   "outputs": [
    {
     "data": {
      "image/png": "[encoded data removed]",
      "text/plain": [
       "<Figure size 1080x576 with 1 Axes>"
      ]
     },
     "metadata": {
      "needs_background": "light"
     },
     "output_type": "display_data"
    }
   ],
   "source": [
    "#banks.plot(subplots=True, figsize=(15,8), title='Bank Stock Performance',sharex=True, sharey=True);\n",
    "banks.plot(figsize=(15,8), title='Bank Stock Performance')\n",
    "plt.xlabel('Date')\n",
    "plt.ylabel('Price ($)')\n",
    "plt.show();"
   ]
  },
  {
   "cell_type": "markdown",
   "metadata": {},
   "source": [
    "### Now there's a problem with this chart. All stocks are on different scales, so you won't get the true picture of a stock's performance against other stocks. Moreover, we don't have a benchmark added in here to compare the performance against it. So let us first add a benchmark - S&P500."
   ]
  },
  {
   "cell_type": "code",
   "execution_count": 194,
   "metadata": {},
   "outputs": [
    {
     "name": "stdout",
     "output_type": "stream",
     "text": [
      "<class 'pandas.core.frame.DataFrame'>\n",
      "DatetimeIndex: 17520 entries, 2050-01-03 to 2019-08-19\n",
      "Data columns (total 1 columns):\n",
      "SP500    17520 non-null float64\n",
      "dtypes: float64(1)\n",
      "memory usage: 273.8 KB\n"
     ]
    }
   ],
   "source": [
    "sp500 = pd.read_csv('data/SP500.csv', parse_dates=['Date'], index_col='Date')\n",
    "sp500.info()"
   ]
  },
  {
   "cell_type": "code",
   "execution_count": 195,
   "metadata": {},
   "outputs": [
    {
     "name": "stdout",
     "output_type": "stream",
     "text": [
      "<class 'pandas.core.frame.DataFrame'>\n",
      "DatetimeIndex: 9942 entries, 1980-03-17 to 2019-08-19\n",
      "Data columns (total 5 columns):\n",
      "BAC      9942 non-null float64\n",
      "BK       9942 non-null float64\n",
      "JPM      9942 non-null float64\n",
      "WFC      9942 non-null float64\n",
      "SP500    9942 non-null float64\n",
      "dtypes: float64(5)\n",
      "memory usage: 466.0 KB\n"
     ]
    }
   ],
   "source": [
    "# combine index dataframe with banks dataframe\n",
    "banks = pd.concat([banks, sp500], axis=1).dropna()\n",
    "banks.info()"
   ]
  },
  {
   "cell_type": "code",
   "execution_count": 196,
   "metadata": {},
   "outputs": [
    {
     "data": {
      "image/png": "[encoded data removed]",
      "text/plain": [
       "<Figure size 1080x576 with 1 Axes>"
      ]
     },
     "metadata": {
      "needs_background": "light"
     },
     "output_type": "display_data"
    }
   ],
   "source": [
    "# Now let us plot it again with rest of the stocks.\n",
    "banks.plot(figsize=(15,8), title='Bank Stock Performance')\n",
    "plt.xlabel('Date')\n",
    "plt.ylabel('Price ($)')\n",
    "plt.show();"
   ]
  },
  {
   "cell_type": "markdown",
   "metadata": {},
   "source": [
    "### Now the issue with previous chart is clearly visible. From this chart, anyone with think that all major bank stocks have underperformed over the years and they aren't good investment at all.\n",
    "### But this is not correct conclusion because we are plotting each of the stock and index data on different scales in same chart which won't give desired result. So, we need to normalize the data before plotting."
   ]
  },
  {
   "cell_type": "markdown",
   "metadata": {},
   "source": [
    "# Exercise - 10\n",
    "### Normalizing different datasets on same scale."
   ]
  },
  {
   "cell_type": "code",
   "execution_count": 197,
   "metadata": {},
   "outputs": [
    {
     "data": {
      "text/html": [
       "<div>\n",
       "<style scoped>\n",
       "    .dataframe tbody tr th:only-of-type {\n",
       "        vertical-align: middle;\n",
       "    }\n",
       "\n",
       "    .dataframe tbody tr th {\n",
       "        vertical-align: top;\n",
       "    }\n",
       "\n",
       "    .dataframe thead th {\n",
       "        text-align: right;\n",
       "    }\n",
       "</style>\n",
       "<table border=\"1\" class=\"dataframe\">\n",
       "  <thead>\n",
       "    <tr style=\"text-align: right;\">\n",
       "      <th></th>\n",
       "      <th>BAC</th>\n",
       "      <th>BK</th>\n",
       "      <th>JPM</th>\n",
       "      <th>WFC</th>\n",
       "      <th>SP500</th>\n",
       "    </tr>\n",
       "    <tr>\n",
       "      <th>Date</th>\n",
       "      <th></th>\n",
       "      <th></th>\n",
       "      <th></th>\n",
       "      <th></th>\n",
       "      <th></th>\n",
       "    </tr>\n",
       "  </thead>\n",
       "  <tbody>\n",
       "    <tr>\n",
       "      <th>1980-03-17</th>\n",
       "      <td>1.40625</td>\n",
       "      <td>1.341557</td>\n",
       "      <td>5.037037</td>\n",
       "      <td>0.8125</td>\n",
       "      <td>102.260002</td>\n",
       "    </tr>\n",
       "  </tbody>\n",
       "</table>\n",
       "</div>"
      ],
      "text/plain": [
       "                BAC        BK       JPM     WFC       SP500\n",
       "Date                                                       \n",
       "1980-03-17  1.40625  1.341557  5.037037  0.8125  102.260002"
      ]
     },
     "execution_count": 197,
     "metadata": {},
     "output_type": "execute_result"
    }
   ],
   "source": [
    "# One way to normalize the data in this case is to use the first value as our reference value and divide all other values by it.\n",
    "\n",
    "banks.head(1)"
   ]
  },
  {
   "cell_type": "code",
   "execution_count": 198,
   "metadata": {},
   "outputs": [
    {
     "data": {
      "text/html": [
       "<div>\n",
       "<style scoped>\n",
       "    .dataframe tbody tr th:only-of-type {\n",
       "        vertical-align: middle;\n",
       "    }\n",
       "\n",
       "    .dataframe tbody tr th {\n",
       "        vertical-align: top;\n",
       "    }\n",
       "\n",
       "    .dataframe thead th {\n",
       "        text-align: right;\n",
       "    }\n",
       "</style>\n",
       "<table border=\"1\" class=\"dataframe\">\n",
       "  <thead>\n",
       "    <tr style=\"text-align: right;\">\n",
       "      <th></th>\n",
       "      <th>BAC</th>\n",
       "      <th>BK</th>\n",
       "      <th>JPM</th>\n",
       "      <th>WFC</th>\n",
       "      <th>SP500</th>\n",
       "    </tr>\n",
       "    <tr>\n",
       "      <th>Date</th>\n",
       "      <th></th>\n",
       "      <th></th>\n",
       "      <th></th>\n",
       "      <th></th>\n",
       "      <th></th>\n",
       "    </tr>\n",
       "  </thead>\n",
       "  <tbody>\n",
       "    <tr>\n",
       "      <th>1980-03-17</th>\n",
       "      <td>100.000000</td>\n",
       "      <td>100.000000</td>\n",
       "      <td>100.000000</td>\n",
       "      <td>100.000000</td>\n",
       "      <td>100.000000</td>\n",
       "    </tr>\n",
       "    <tr>\n",
       "      <th>1980-03-18</th>\n",
       "      <td>98.888889</td>\n",
       "      <td>99.177001</td>\n",
       "      <td>100.735293</td>\n",
       "      <td>103.205169</td>\n",
       "      <td>101.799331</td>\n",
       "    </tr>\n",
       "    <tr>\n",
       "      <th>1980-03-19</th>\n",
       "      <td>102.222222</td>\n",
       "      <td>99.177001</td>\n",
       "      <td>102.205880</td>\n",
       "      <td>100.640985</td>\n",
       "      <td>102.004690</td>\n",
       "    </tr>\n",
       "    <tr>\n",
       "      <th>1980-03-20</th>\n",
       "      <td>102.222222</td>\n",
       "      <td>97.119317</td>\n",
       "      <td>101.470587</td>\n",
       "      <td>100.000000</td>\n",
       "      <td>100.840995</td>\n",
       "    </tr>\n",
       "    <tr>\n",
       "      <th>1980-03-21</th>\n",
       "      <td>102.222222</td>\n",
       "      <td>96.296318</td>\n",
       "      <td>103.676467</td>\n",
       "      <td>100.000000</td>\n",
       "      <td>100.048891</td>\n",
       "    </tr>\n",
       "  </tbody>\n",
       "</table>\n",
       "</div>"
      ],
      "text/plain": [
       "                   BAC          BK         JPM         WFC       SP500\n",
       "Date                                                                  \n",
       "1980-03-17  100.000000  100.000000  100.000000  100.000000  100.000000\n",
       "1980-03-18   98.888889   99.177001  100.735293  103.205169  101.799331\n",
       "1980-03-19  102.222222   99.177001  102.205880  100.640985  102.004690\n",
       "1980-03-20  102.222222   97.119317  101.470587  100.000000  100.840995\n",
       "1980-03-21  102.222222   96.296318  103.676467  100.000000  100.048891"
      ]
     },
     "execution_count": 198,
     "metadata": {},
     "output_type": "execute_result"
    }
   ],
   "source": [
    "# This is the oldest value in the dataframe. We can use each of stock's oldest value to compute it's normalized value as follows:\n",
    "\n",
    "normalized_banks = banks.div(banks.iloc[0]).mul(100)\n",
    "normalized_banks.head(5)"
   ]
  },
  {
   "cell_type": "code",
   "execution_count": 199,
   "metadata": {},
   "outputs": [
    {
     "name": "stdout",
     "output_type": "stream",
     "text": [
      "Before Normalization\n"
     ]
    },
    {
     "data": {
      "image/png": "[encoded data removed]",
      "text/plain": [
       "<Figure size 1440x504 with 1 Axes>"
      ]
     },
     "metadata": {
      "needs_background": "light"
     },
     "output_type": "display_data"
    },
    {
     "name": "stdout",
     "output_type": "stream",
     "text": [
      "After Normalization\n"
     ]
    },
    {
     "data": {
      "image/png": "[encoded data removed]",
      "text/plain": [
       "<Figure size 1440x504 with 1 Axes>"
      ]
     },
     "metadata": {
      "needs_background": "light"
     },
     "output_type": "display_data"
    }
   ],
   "source": [
    "## As we see, all the values are now normalized in the dataframe including that of SP500. Let us plot them now as before\n",
    "\n",
    "print(\"Before Normalization\")\n",
    "banks.plot(figsize=(20,7), title='Bank Stock Performance')\n",
    "plt.xlabel('Date')\n",
    "plt.ylabel('Price ($)')\n",
    "plt.show();\n",
    "\n",
    "\n",
    "print(\"After Normalization\")\n",
    "normalized_banks.plot(figsize=(20,7), title='Bank Stock Performance')\n",
    "plt.xlabel('Date')\n",
    "plt.ylabel('Price ($)')\n",
    "plt.show();"
   ]
  },
  {
   "cell_type": "markdown",
   "metadata": {},
   "source": [
    "### Now we get completely different results and it shows that WFC and BK banks had been outperforming index for more than 25 years."
   ]
  },
  {
   "cell_type": "code",
   "execution_count": 200,
   "metadata": {},
   "outputs": [
    {
     "data": {
      "text/html": [
       "<div>\n",
       "<style scoped>\n",
       "    .dataframe tbody tr th:only-of-type {\n",
       "        vertical-align: middle;\n",
       "    }\n",
       "\n",
       "    .dataframe tbody tr th {\n",
       "        vertical-align: top;\n",
       "    }\n",
       "\n",
       "    .dataframe thead th {\n",
       "        text-align: right;\n",
       "    }\n",
       "</style>\n",
       "<table border=\"1\" class=\"dataframe\">\n",
       "  <thead>\n",
       "    <tr style=\"text-align: right;\">\n",
       "      <th></th>\n",
       "      <th>BAC</th>\n",
       "      <th>BK</th>\n",
       "      <th>JPM</th>\n",
       "      <th>WFC</th>\n",
       "      <th>SP500</th>\n",
       "    </tr>\n",
       "    <tr>\n",
       "      <th>Date</th>\n",
       "      <th></th>\n",
       "      <th></th>\n",
       "      <th></th>\n",
       "      <th></th>\n",
       "      <th></th>\n",
       "    </tr>\n",
       "  </thead>\n",
       "  <tbody>\n",
       "    <tr>\n",
       "      <th>2019-08-19</th>\n",
       "      <td>$193,920.00</td>\n",
       "      <td>$318,435.97</td>\n",
       "      <td>$215,781.62</td>\n",
       "      <td>$556,923.08</td>\n",
       "      <td>$285,903.56</td>\n",
       "    </tr>\n",
       "  </tbody>\n",
       "</table>\n",
       "</div>"
      ],
      "text/plain": [
       "                    BAC           BK          JPM          WFC        SP500\n",
       "Date                                                                       \n",
       "2019-08-19  $193,920.00  $318,435.97  $215,781.62  $556,923.08  $285,903.56"
      ]
     },
     "execution_count": 200,
     "metadata": {},
     "output_type": "execute_result"
    }
   ],
   "source": [
    "# value of $10,000 invested in each of these banks will be equal to \n",
    "normalized_banks[-1:].mul(100).applymap(\"${0:,.2f}\".format)"
   ]
  },
  {
   "cell_type": "code",
   "execution_count": null,
   "metadata": {},
   "outputs": [],
   "source": []
  },
  {
   "cell_type": "code",
   "execution_count": null,
   "metadata": {},
   "outputs": [],
   "source": []
  }
 ],
 "metadata": {
  "kernelspec": {
   "display_name": "Python 3",
   "language": "python",
   "name": "python3"
  },
  "language_info": {
   "codemirror_mode": {
    "name": "ipython",
    "version": 3
   },
   "file_extension": ".py",
   "mimetype": "text/x-python",
   "name": "python",
   "nbconvert_exporter": "python",
   "pygments_lexer": "ipython3",
   "version": "3.7.3"
  }
 },
 "nbformat": 4,
 "nbformat_minor": 2
}
